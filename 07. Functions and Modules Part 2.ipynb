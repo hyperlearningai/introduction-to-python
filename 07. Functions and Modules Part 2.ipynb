{
 "cells": [
  {
   "cell_type": "markdown",
   "metadata": {},
   "source": [
    "# HyperLearning AI - Introduction to Python\n",
    "An introductory course to the Python 3 programming language, with a curriculum aligned to the Certified Associate in Python Programming (PCAP) examination syllabus (PCAP-31-02).<br/>\n",
    "https://knowledgebase.hyperlearning.ai/courses/introduction-to-python\n",
    "\n",
    "\n",
    "## 07. Functions and Modules Part 2\n",
    "https://knowledgebase.hyperlearning.ai/en/courses/introduction-to-python/modules/7/functions-and-modules-part-2\n",
    "\n",
    "In this module we will formally introduce Python modules and packages, including how to write and use Python modules, how to construct and distribute Python packages, how to hide Python module entities, how to document Python modules, and Python hashbangs. Specifically we will cover:\n",
    "\n",
    "* **Python Modules** - importing modules, qualifying entities, initialising modules, writing and using modules, the name variable, Python hashbangs, and module documentation\n",
    "* **Python Packages** - creating packages, packages vs directories, the init file, and hiding module entities"
   ]
  },
  {
   "cell_type": "markdown",
   "metadata": {},
   "source": [
    "### 1. Modules\n",
    "#### 1.1. Importing Modules"
   ]
  },
  {
   "cell_type": "code",
   "execution_count": 4,
   "metadata": {},
   "outputs": [],
   "source": [
    "# Import our numbertools module\n",
    "import numbertools"
   ]
  },
  {
   "cell_type": "code",
   "execution_count": 5,
   "metadata": {},
   "outputs": [
    {
     "name": "stdout",
     "output_type": "stream",
     "text": [
      "False\n",
      "True\n",
      "True\n",
      "False\n",
      "True\n"
     ]
    }
   ],
   "source": [
    "# Call functions from the module\n",
    "print(numbertools.is_int(0.5))\n",
    "print(numbertools.is_even(1_000_002))\n",
    "print(numbertools.is_prime(277))\n",
    "print(numbertools.is_fibonacci(12))\n",
    "print(numbertools.is_perfect_square(1444))"
   ]
  },
  {
   "cell_type": "code",
   "execution_count": 6,
   "metadata": {},
   "outputs": [
    {
     "name": "stdout",
     "output_type": "stream",
     "text": [
      "1.618033988749895\n"
     ]
    }
   ],
   "source": [
    "# Access variables from the module\n",
    "print(numbertools.mobius_phi)"
   ]
  },
  {
   "cell_type": "code",
   "execution_count": 7,
   "metadata": {},
   "outputs": [
    {
     "name": "stdout",
     "output_type": "stream",
     "text": [
      "True\n",
      "1.618033988749895\n"
     ]
    }
   ],
   "source": [
    "# Create an alias for a module\n",
    "import numbertools as nt\n",
    "\n",
    "# Call module entities qualified with the module alias\n",
    "print(nt.is_perfect_square(9801))\n",
    "print(nt.mobius_phi)"
   ]
  },
  {
   "cell_type": "code",
   "execution_count": 8,
   "metadata": {},
   "outputs": [
    {
     "name": "stdout",
     "output_type": "stream",
     "text": [
      "['__builtins__', '__cached__', '__doc__', '__file__', '__loader__', '__name__', '__package__', '__spec__', 'is_even', 'is_fibonacci', 'is_int', 'is_perfect_square', 'is_prime', 'math', 'mobius_phi']\n"
     ]
    }
   ],
   "source": [
    "# List all the function and variable names in a given module\n",
    "print(dir(nt))"
   ]
  },
  {
   "cell_type": "code",
   "execution_count": 9,
   "metadata": {},
   "outputs": [
    {
     "name": "stdout",
     "output_type": "stream",
     "text": [
      "['__doc__', '__file__', '__loader__', '__name__', '__package__', '__spec__', 'acos', 'acosh', 'asin', 'asinh', 'atan', 'atan2', 'atanh', 'ceil', 'comb', 'copysign', 'cos', 'cosh', 'degrees', 'dist', 'e', 'erf', 'erfc', 'exp', 'expm1', 'fabs', 'factorial', 'floor', 'fmod', 'frexp', 'fsum', 'gamma', 'gcd', 'hypot', 'inf', 'isclose', 'isfinite', 'isinf', 'isnan', 'isqrt', 'ldexp', 'lgamma', 'log', 'log10', 'log1p', 'log2', 'modf', 'nan', 'perm', 'pi', 'pow', 'prod', 'radians', 'remainder', 'sin', 'sinh', 'sqrt', 'tan', 'tanh', 'tau', 'trunc']\n"
     ]
    }
   ],
   "source": [
    "print(dir(math))"
   ]
  },
  {
   "cell_type": "code",
   "execution_count": 22,
   "metadata": {},
   "outputs": [
    {
     "name": "stdout",
     "output_type": "stream",
     "text": [
      "0.0\n",
      "1.0\n",
      "1.0\n",
      "3.1415926536\n"
     ]
    }
   ],
   "source": [
    "# Import specific entities\n",
    "from math import cos, pi, radians, sin, tan\n",
    "\n",
    "# Use the specifically imported entities\n",
    "print(round(cos(math.radians(90)), 0))\n",
    "print(round(sin(math.radians(90)), 0))\n",
    "print(round(tan(math.radians(45)), 0))\n",
    "print(round(pi, 10))"
   ]
  },
  {
   "cell_type": "markdown",
   "metadata": {},
   "source": [
    "#### 1.2. Module Search Path"
   ]
  },
  {
   "cell_type": "code",
   "execution_count": null,
   "metadata": {},
   "outputs": [],
   "source": [
    "# Examine and modify sys.path\n",
    "import sys\n",
    "\n",
    "# Examine sys.path\n",
    "print(sys.path)\n",
    "\n",
    "# Append a location to sys.path\n",
    "sys.path.append('/foo/bar/code')\n",
    "print(sys.path)"
   ]
  },
  {
   "cell_type": "markdown",
   "metadata": {},
   "source": [
    "#### 1.5. Module Documentation"
   ]
  },
  {
   "cell_type": "code",
   "execution_count": 30,
   "metadata": {},
   "outputs": [
    {
     "name": "stdout",
     "output_type": "stream",
     "text": [
      "Collection of tools for number testing\n",
      "\n",
      "This module demonstrates the creation and usage of modules in Python.\n",
      "The documentation standard for modules is to provide a docstring at the top\n",
      "of the module script file. This docstring consists of a one-line summary\n",
      "followed by a more detailed description of the module. Sections may also be\n",
      "included in module docstrings, and are created with a section header and a \n",
      "colon followed by a block of indented text. Refer to\n",
      "https://www.python.org/dev/peps/pep-0008/ for the PEP 8 style guide for\n",
      "Python code for further information.\n",
      "\n",
      "Attributes:\n",
      "    mobius_phi (float): Module level variables are documented in\n",
      "    either the ``Attributes`` section of the module docstring, or in an\n",
      "    inline docstring immediately following the variable. Either form is\n",
      "    acceptable, however HyperLearning AI prefer module level variables be\n",
      "    documented in the module docstring. In this case, mobius_phi is a\n",
      "    constant value used as part of the Mobius test to determine whether\n",
      "    a given number is a Fibonacci number or not.\n",
      " \n",
      "\n"
     ]
    }
   ],
   "source": [
    "# Access and display a module's docstring\n",
    "print(numbertools.__doc__)"
   ]
  },
  {
   "cell_type": "code",
   "execution_count": 31,
   "metadata": {},
   "outputs": [
    {
     "name": "stdout",
     "output_type": "stream",
     "text": [
      "This module provides access to the mathematical functions\n",
      "defined by the C standard.\n"
     ]
    }
   ],
   "source": [
    "# Access and display a built-in module's docstring\n",
    "print(math.__doc__)"
   ]
  },
  {
   "cell_type": "code",
   "execution_count": 32,
   "metadata": {},
   "outputs": [
    {
     "name": "stdout",
     "output_type": "stream",
     "text": [
      "Test whether a given number is a Fibonacci number or not.\n",
      "\n",
      "    Tests whether a given number is a Fibonacci number or not using\n",
      "    the Mobius Test.\n",
      "\n",
      "    Args:\n",
      "        num (int): The number to test whether it is a Fibonacci number\n",
      "\n",
      "    Returns:\n",
      "        bool: True if num is a Fibonacci number, otherwise False\n",
      "\n",
      "    \n"
     ]
    }
   ],
   "source": [
    "# Access and display a function's docstring\n",
    "print(numbertools.is_fibonacci.__doc__)"
   ]
  },
  {
   "cell_type": "code",
   "execution_count": 33,
   "metadata": {},
   "outputs": [
    {
     "name": "stdout",
     "output_type": "stream",
     "text": [
      "Return the sine of x (measured in radians).\n"
     ]
    }
   ],
   "source": [
    "# Access and display a built-in function's docstring\n",
    "print(sin.__doc__)"
   ]
  },
  {
   "cell_type": "code",
   "execution_count": 37,
   "metadata": {},
   "outputs": [
    {
     "name": "stdout",
     "output_type": "stream",
     "text": [
      "Help on module numbertools:\n",
      "\n",
      "NAME\n",
      "    numbertools - Collection of tools for number testing\n",
      "\n",
      "DESCRIPTION\n",
      "    This module demonstrates the creation and usage of modules in Python.\n",
      "    The documentation standard for modules is to provide a docstring at the top\n",
      "    of the module script file. This docstring consists of a one-line summary\n",
      "    followed by a more detailed description of the module. Sections may also be\n",
      "    included in module docstrings, and are created with a section header and a \n",
      "    colon followed by a block of indented text. Refer to\n",
      "    https://www.python.org/dev/peps/pep-0008/ for the PEP 8 style guide for\n",
      "    Python code for further information.\n",
      "    \n",
      "    Attributes:\n",
      "        mobius_phi (float): Module level variables are documented in\n",
      "        either the ``Attributes`` section of the module docstring, or in an\n",
      "        inline docstring immediately following the variable. Either form is\n",
      "        acceptable, however HyperLearning AI prefer module level variables be\n",
      "        documented in the module docstring. In this case, mobius_phi is a\n",
      "        constant value used as part of the Mobius test to determine whether\n",
      "        a given number is a Fibonacci number or not.\n",
      "\n",
      "FUNCTIONS\n",
      "    is_even(num)\n",
      "        Test whether a given number is even or not.\n",
      "        \n",
      "        Tests whether a given number is even or not using the modulo operator.\n",
      "        \n",
      "        Args:\n",
      "            num (int): The number to test whether it is even\n",
      "        \n",
      "        Returns:\n",
      "            bool: True if num is even, otherwise False\n",
      "    \n",
      "    is_fibonacci(num)\n",
      "        Test whether a given number is a Fibonacci number or not.\n",
      "        \n",
      "        Tests whether a given number is a Fibonacci number or not using\n",
      "        the Mobius Test.\n",
      "        \n",
      "        Args:\n",
      "            num (int): The number to test whether it is a Fibonacci number\n",
      "        \n",
      "        Returns:\n",
      "            bool: True if num is a Fibonacci number, otherwise False\n",
      "    \n",
      "    is_int(num)\n",
      "        Test whether a given number is an integer or not.\n",
      "        \n",
      "        Tests whether a given number is an integer or not using the in-built\n",
      "        isinstance() Python function, which returns True if the given object\n",
      "        is of the specified type, otherwise False.\n",
      "        \n",
      "        Args:\n",
      "            num (int): The number to test whether it is an integer\n",
      "        \n",
      "        Returns:\n",
      "            bool: True if num is an integer, otherwise False.\n",
      "    \n",
      "    is_perfect_square(num)\n",
      "        Test whether a given number is a perfect square.\n",
      "        \n",
      "        Tests whether a given number is a perfect square or not based\n",
      "        on the Babylonian method for computing square roots.\n",
      "        \n",
      "        Args:\n",
      "            num (int): The number to test whether it is a perfect square\n",
      "        \n",
      "        Returns:\n",
      "            bool: True if num is a perfect square, otherwise False\n",
      "    \n",
      "    is_prime(num)\n",
      "        Test whether a given number is a prime number or not.\n",
      "        \n",
      "        Tests whether a given number is a prime number or not, by first testing\n",
      "        whether it is 0, 1, negative or not a whole number. If neither of these\n",
      "        conditions are met, then the function proceeds to test whether the given\n",
      "        number can be divided by the numbers from 2 to the floor division of the\n",
      "        given number by 2 without a remainder. If not, then the given number is\n",
      "        indeed a prime number.\n",
      "        \n",
      "        Args:\n",
      "            num (int): The number to test whether it is a prime number\n",
      "        \n",
      "        Returns:\n",
      "            bool: True if num is a prime number, otherwise False\n",
      "    \n",
      "    main(num)\n",
      "        Entry point for the Number Tools application.\n",
      "        \n",
      "        Given a number, this function will test whether that given number\n",
      "        is an integer, an even number, a prime number, a Fibonacci number\n",
      "        and a perfect square.\n",
      "        \n",
      "        Args:\n",
      "            num (int): The number to test\n",
      "        \n",
      "        Returns:\n",
      "            None\n",
      "\n",
      "DATA\n",
      "    mobius_phi = 1.618033988749895\n",
      "\n",
      "FILE\n",
      "    /data/users/jillurquddus/digital/computing/repositories/git/working/introduction-to-python/numbertools.py\n",
      "\n",
      "\n"
     ]
    }
   ],
   "source": [
    "# Display help on the numbertools module\n",
    "help(numbertools)"
   ]
  },
  {
   "cell_type": "code",
   "execution_count": 39,
   "metadata": {},
   "outputs": [
    {
     "name": "stdout",
     "output_type": "stream",
     "text": [
      "Help on function is_perfect_square in module numbertools:\n",
      "\n",
      "is_perfect_square(num)\n",
      "    Test whether a given number is a perfect square.\n",
      "    \n",
      "    Tests whether a given number is a perfect square or not based\n",
      "    on the Babylonian method for computing square roots.\n",
      "    \n",
      "    Args:\n",
      "        num (int): The number to test whether it is a perfect square\n",
      "    \n",
      "    Returns:\n",
      "        bool: True if num is a perfect square, otherwise False\n",
      "\n"
     ]
    }
   ],
   "source": [
    "# Display help on a specific function\n",
    "help(numbertools.is_perfect_square)"
   ]
  },
  {
   "cell_type": "code",
   "execution_count": 40,
   "metadata": {},
   "outputs": [
    {
     "name": "stdout",
     "output_type": "stream",
     "text": [
      "Help on built-in function len in module builtins:\n",
      "\n",
      "len(obj, /)\n",
      "    Return the number of items in a container.\n",
      "\n"
     ]
    }
   ],
   "source": [
    "# Display help on a specifc built-in function\n",
    "help(len)"
   ]
  },
  {
   "cell_type": "code",
   "execution_count": 38,
   "metadata": {},
   "outputs": [
    {
     "name": "stdout",
     "output_type": "stream",
     "text": [
      "Help on module math:\n",
      "\n",
      "NAME\n",
      "    math\n",
      "\n",
      "MODULE REFERENCE\n",
      "    https://docs.python.org/3.8/library/math\n",
      "    \n",
      "    The following documentation is automatically generated from the Python\n",
      "    source files.  It may be incomplete, incorrect or include features that\n",
      "    are considered implementation detail and may vary between Python\n",
      "    implementations.  When in doubt, consult the module reference at the\n",
      "    location listed above.\n",
      "\n",
      "DESCRIPTION\n",
      "    This module provides access to the mathematical functions\n",
      "    defined by the C standard.\n",
      "\n",
      "FUNCTIONS\n",
      "    acos(x, /)\n",
      "        Return the arc cosine (measured in radians) of x.\n",
      "    \n",
      "    acosh(x, /)\n",
      "        Return the inverse hyperbolic cosine of x.\n",
      "    \n",
      "    asin(x, /)\n",
      "        Return the arc sine (measured in radians) of x.\n",
      "    \n",
      "    asinh(x, /)\n",
      "        Return the inverse hyperbolic sine of x.\n",
      "    \n",
      "    atan(x, /)\n",
      "        Return the arc tangent (measured in radians) of x.\n",
      "    \n",
      "    atan2(y, x, /)\n",
      "        Return the arc tangent (measured in radians) of y/x.\n",
      "        \n",
      "        Unlike atan(y/x), the signs of both x and y are considered.\n",
      "    \n",
      "    atanh(x, /)\n",
      "        Return the inverse hyperbolic tangent of x.\n",
      "    \n",
      "    ceil(x, /)\n",
      "        Return the ceiling of x as an Integral.\n",
      "        \n",
      "        This is the smallest integer >= x.\n",
      "    \n",
      "    comb(n, k, /)\n",
      "        Number of ways to choose k items from n items without repetition and without order.\n",
      "        \n",
      "        Evaluates to n! / (k! * (n - k)!) when k <= n and evaluates\n",
      "        to zero when k > n.\n",
      "        \n",
      "        Also called the binomial coefficient because it is equivalent\n",
      "        to the coefficient of k-th term in polynomial expansion of the\n",
      "        expression (1 + x)**n.\n",
      "        \n",
      "        Raises TypeError if either of the arguments are not integers.\n",
      "        Raises ValueError if either of the arguments are negative.\n",
      "    \n",
      "    copysign(x, y, /)\n",
      "        Return a float with the magnitude (absolute value) of x but the sign of y.\n",
      "        \n",
      "        On platforms that support signed zeros, copysign(1.0, -0.0)\n",
      "        returns -1.0.\n",
      "    \n",
      "    cos(x, /)\n",
      "        Return the cosine of x (measured in radians).\n",
      "    \n",
      "    cosh(x, /)\n",
      "        Return the hyperbolic cosine of x.\n",
      "    \n",
      "    degrees(x, /)\n",
      "        Convert angle x from radians to degrees.\n",
      "    \n",
      "    dist(p, q, /)\n",
      "        Return the Euclidean distance between two points p and q.\n",
      "        \n",
      "        The points should be specified as sequences (or iterables) of\n",
      "        coordinates.  Both inputs must have the same dimension.\n",
      "        \n",
      "        Roughly equivalent to:\n",
      "            sqrt(sum((px - qx) ** 2.0 for px, qx in zip(p, q)))\n",
      "    \n",
      "    erf(x, /)\n",
      "        Error function at x.\n",
      "    \n",
      "    erfc(x, /)\n",
      "        Complementary error function at x.\n",
      "    \n",
      "    exp(x, /)\n",
      "        Return e raised to the power of x.\n",
      "    \n",
      "    expm1(x, /)\n",
      "        Return exp(x)-1.\n",
      "        \n",
      "        This function avoids the loss of precision involved in the direct evaluation of exp(x)-1 for small x.\n",
      "    \n",
      "    fabs(x, /)\n",
      "        Return the absolute value of the float x.\n",
      "    \n",
      "    factorial(x, /)\n",
      "        Find x!.\n",
      "        \n",
      "        Raise a ValueError if x is negative or non-integral.\n",
      "    \n",
      "    floor(x, /)\n",
      "        Return the floor of x as an Integral.\n",
      "        \n",
      "        This is the largest integer <= x.\n",
      "    \n",
      "    fmod(x, y, /)\n",
      "        Return fmod(x, y), according to platform C.\n",
      "        \n",
      "        x % y may differ.\n",
      "    \n",
      "    frexp(x, /)\n",
      "        Return the mantissa and exponent of x, as pair (m, e).\n",
      "        \n",
      "        m is a float and e is an int, such that x = m * 2.**e.\n",
      "        If x is 0, m and e are both 0.  Else 0.5 <= abs(m) < 1.0.\n",
      "    \n",
      "    fsum(seq, /)\n",
      "        Return an accurate floating point sum of values in the iterable seq.\n",
      "        \n",
      "        Assumes IEEE-754 floating point arithmetic.\n",
      "    \n",
      "    gamma(x, /)\n",
      "        Gamma function at x.\n",
      "    \n",
      "    gcd(x, y, /)\n",
      "        greatest common divisor of x and y\n",
      "    \n",
      "    hypot(...)\n",
      "        hypot(*coordinates) -> value\n",
      "        \n",
      "        Multidimensional Euclidean distance from the origin to a point.\n",
      "        \n",
      "        Roughly equivalent to:\n",
      "            sqrt(sum(x**2 for x in coordinates))\n",
      "        \n",
      "        For a two dimensional point (x, y), gives the hypotenuse\n",
      "        using the Pythagorean theorem:  sqrt(x*x + y*y).\n",
      "        \n",
      "        For example, the hypotenuse of a 3/4/5 right triangle is:\n",
      "        \n",
      "            >>> hypot(3.0, 4.0)\n",
      "            5.0\n",
      "    \n",
      "    isclose(a, b, *, rel_tol=1e-09, abs_tol=0.0)\n",
      "        Determine whether two floating point numbers are close in value.\n",
      "        \n",
      "          rel_tol\n",
      "            maximum difference for being considered \"close\", relative to the\n",
      "            magnitude of the input values\n",
      "          abs_tol\n",
      "            maximum difference for being considered \"close\", regardless of the\n",
      "            magnitude of the input values\n",
      "        \n",
      "        Return True if a is close in value to b, and False otherwise.\n",
      "        \n",
      "        For the values to be considered close, the difference between them\n",
      "        must be smaller than at least one of the tolerances.\n",
      "        \n",
      "        -inf, inf and NaN behave similarly to the IEEE 754 Standard.  That\n",
      "        is, NaN is not close to anything, even itself.  inf and -inf are\n",
      "        only close to themselves.\n",
      "    \n",
      "    isfinite(x, /)\n",
      "        Return True if x is neither an infinity nor a NaN, and False otherwise.\n",
      "    \n",
      "    isinf(x, /)\n",
      "        Return True if x is a positive or negative infinity, and False otherwise.\n",
      "    \n",
      "    isnan(x, /)\n",
      "        Return True if x is a NaN (not a number), and False otherwise.\n",
      "    \n",
      "    isqrt(n, /)\n",
      "        Return the integer part of the square root of the input.\n",
      "    \n",
      "    ldexp(x, i, /)\n",
      "        Return x * (2**i).\n",
      "        \n",
      "        This is essentially the inverse of frexp().\n",
      "    \n",
      "    lgamma(x, /)\n",
      "        Natural logarithm of absolute value of Gamma function at x.\n",
      "    \n",
      "    log(...)\n",
      "        log(x, [base=math.e])\n",
      "        Return the logarithm of x to the given base.\n",
      "        \n",
      "        If the base not specified, returns the natural logarithm (base e) of x.\n",
      "    \n",
      "    log10(x, /)\n",
      "        Return the base 10 logarithm of x.\n",
      "    \n",
      "    log1p(x, /)\n",
      "        Return the natural logarithm of 1+x (base e).\n",
      "        \n",
      "        The result is computed in a way which is accurate for x near zero.\n",
      "    \n",
      "    log2(x, /)\n",
      "        Return the base 2 logarithm of x.\n",
      "    \n",
      "    modf(x, /)\n",
      "        Return the fractional and integer parts of x.\n",
      "        \n",
      "        Both results carry the sign of x and are floats.\n",
      "    \n",
      "    perm(n, k=None, /)\n",
      "        Number of ways to choose k items from n items without repetition and with order.\n",
      "        \n",
      "        Evaluates to n! / (n - k)! when k <= n and evaluates\n",
      "        to zero when k > n.\n",
      "        \n",
      "        If k is not specified or is None, then k defaults to n\n",
      "        and the function returns n!.\n",
      "        \n",
      "        Raises TypeError if either of the arguments are not integers.\n",
      "        Raises ValueError if either of the arguments are negative.\n",
      "    \n",
      "    pow(x, y, /)\n",
      "        Return x**y (x to the power of y).\n",
      "    \n",
      "    prod(iterable, /, *, start=1)\n",
      "        Calculate the product of all the elements in the input iterable.\n",
      "        \n",
      "        The default start value for the product is 1.\n",
      "        \n",
      "        When the iterable is empty, return the start value.  This function is\n",
      "        intended specifically for use with numeric values and may reject\n",
      "        non-numeric types.\n",
      "    \n",
      "    radians(x, /)\n",
      "        Convert angle x from degrees to radians.\n",
      "    \n",
      "    remainder(x, y, /)\n",
      "        Difference between x and the closest integer multiple of y.\n",
      "        \n",
      "        Return x - n*y where n*y is the closest integer multiple of y.\n",
      "        In the case where x is exactly halfway between two multiples of\n",
      "        y, the nearest even value of n is used. The result is always exact.\n",
      "    \n",
      "    sin(x, /)\n",
      "        Return the sine of x (measured in radians).\n",
      "    \n",
      "    sinh(x, /)\n",
      "        Return the hyperbolic sine of x.\n",
      "    \n",
      "    sqrt(x, /)\n",
      "        Return the square root of x.\n",
      "    \n",
      "    tan(x, /)\n",
      "        Return the tangent of x (measured in radians).\n",
      "    \n",
      "    tanh(x, /)\n",
      "        Return the hyperbolic tangent of x.\n",
      "    \n",
      "    trunc(x, /)\n",
      "        Truncates the Real x to the nearest Integral toward 0.\n",
      "        \n",
      "        Uses the __trunc__ magic method.\n",
      "\n",
      "DATA\n",
      "    e = 2.718281828459045\n",
      "    inf = inf\n",
      "    nan = nan\n",
      "    pi = 3.141592653589793\n",
      "    tau = 6.283185307179586\n",
      "\n",
      "FILE\n",
      "    /data/apps/anaconda/anaconda3/lib/python3.8/lib-dynload/math.cpython-38-x86_64-linux-gnu.so\n",
      "\n",
      "\n"
     ]
    }
   ],
   "source": [
    "# Display help on the built-in math module\n",
    "help(math)"
   ]
  },
  {
   "cell_type": "markdown",
   "metadata": {},
   "source": [
    "#### 1.7. PYC Files"
   ]
  },
  {
   "cell_type": "code",
   "execution_count": 1,
   "metadata": {},
   "outputs": [
    {
     "data": {
      "text/plain": [
       "'__pycache__/numbertools.cpython-38.pyc'"
      ]
     },
     "execution_count": 1,
     "metadata": {},
     "output_type": "execute_result"
    }
   ],
   "source": [
    "# Generate a byte code file of our numbertools module\n",
    "import py_compile\n",
    "py_compile.compile('numbertools.py')"
   ]
  },
  {
   "cell_type": "code",
   "execution_count": 2,
   "metadata": {},
   "outputs": [
    {
     "data": {
      "text/plain": [
       "'/tmp/numbertools.pyc'"
      ]
     },
     "execution_count": 2,
     "metadata": {},
     "output_type": "execute_result"
    }
   ],
   "source": [
    "# Generate a byte code file of our numbertools module in a custom location\n",
    "py_compile.compile('numbertools.py', cfile='/tmp/numbertools.pyc')"
   ]
  },
  {
   "cell_type": "markdown",
   "metadata": {},
   "source": [
    "### 2. Packages\n",
    "#### 2.1. Importing Packages"
   ]
  },
  {
   "cell_type": "code",
   "execution_count": 4,
   "metadata": {},
   "outputs": [
    {
     "name": "stdout",
     "output_type": "stream",
     "text": [
      "False\n"
     ]
    }
   ],
   "source": [
    "# Import a module from a nested package in the Pandas library\n",
    "import pandas.api.types as types\n",
    "print(types.is_integer_dtype(str))"
   ]
  },
  {
   "cell_type": "code",
   "execution_count": 5,
   "metadata": {},
   "outputs": [
    {
     "name": "stdout",
     "output_type": "stream",
     "text": [
      "False\n"
     ]
    }
   ],
   "source": [
    "# Alternatively use from to import a specific module\n",
    "from pandas.api import types\n",
    "print(types.is_integer_dtype(str))"
   ]
  },
  {
   "cell_type": "code",
   "execution_count": 6,
   "metadata": {},
   "outputs": [
    {
     "name": "stdout",
     "output_type": "stream",
     "text": [
      "False\n"
     ]
    }
   ],
   "source": [
    "# Alternatively use from to import a specific function from a specific module\n",
    "from pandas.api.types import is_integer_dtype\n",
    "print(is_integer_dtype(str))"
   ]
  },
  {
   "cell_type": "markdown",
   "metadata": {},
   "source": [
    "#### 2.2.8. Install from Local Wheel"
   ]
  },
  {
   "cell_type": "code",
   "execution_count": 6,
   "metadata": {},
   "outputs": [],
   "source": [
    "# Import our generated distribution package myutils\n",
    "import myutils\n",
    "\n",
    "# Alternatively import a specific module from a specific package\n",
    "import myutils.collections.dictutils as dictutils"
   ]
  },
  {
   "cell_type": "code",
   "execution_count": 7,
   "metadata": {},
   "outputs": [
    {
     "data": {
      "text/html": [
       "<div>\n",
       "<style scoped>\n",
       "    .dataframe tbody tr th:only-of-type {\n",
       "        vertical-align: middle;\n",
       "    }\n",
       "\n",
       "    .dataframe tbody tr th {\n",
       "        vertical-align: top;\n",
       "    }\n",
       "\n",
       "    .dataframe thead th {\n",
       "        text-align: right;\n",
       "    }\n",
       "</style>\n",
       "<table border=\"1\" class=\"dataframe\">\n",
       "  <thead>\n",
       "    <tr style=\"text-align: right;\">\n",
       "      <th></th>\n",
       "      <th>Language</th>\n",
       "      <th>Version</th>\n",
       "    </tr>\n",
       "  </thead>\n",
       "  <tbody>\n",
       "    <tr>\n",
       "      <th>1</th>\n",
       "      <td>python</td>\n",
       "      <td>3.80</td>\n",
       "    </tr>\n",
       "    <tr>\n",
       "      <th>2</th>\n",
       "      <td>java</td>\n",
       "      <td>11.00</td>\n",
       "    </tr>\n",
       "    <tr>\n",
       "      <th>3</th>\n",
       "      <td>scala</td>\n",
       "      <td>2.13</td>\n",
       "    </tr>\n",
       "  </tbody>\n",
       "</table>\n",
       "</div>"
      ],
      "text/plain": [
       "  Language  Version\n",
       "1   python     3.80\n",
       "2     java    11.00\n",
       "3    scala     2.13"
      ]
     },
     "execution_count": 7,
     "metadata": {},
     "output_type": "execute_result"
    }
   ],
   "source": [
    "# Call one of our myutils bespoke functions\n",
    "my_dict = {\n",
    "    1: ['python', 3.8], \n",
    "    2: ['java', 11], \n",
    "    3: ['scala', 2.13]\n",
    "}\n",
    "\n",
    "# Convert a dictionary to a Pandas DataFrame using our user-defined dictutils.convert_to_dataframe() function\n",
    "df = dictutils.convert_to_dataframe(my_dict, ['Language', 'Version'])\n",
    "df.head()"
   ]
  }
 ],
 "metadata": {
  "kernelspec": {
   "display_name": "Python 3",
   "language": "python",
   "name": "python3"
  },
  "language_info": {
   "codemirror_mode": {
    "name": "ipython",
    "version": 3
   },
   "file_extension": ".py",
   "mimetype": "text/x-python",
   "name": "python",
   "nbconvert_exporter": "python",
   "pygments_lexer": "ipython3",
   "version": "3.8.8"
  }
 },
 "nbformat": 4,
 "nbformat_minor": 4
}
