{
 "cells": [
  {
   "cell_type": "markdown",
   "metadata": {},
   "source": [
    "# HyperLearning AI - Introduction to Python\n",
    "An introductory course to the Python 3 programming language, with a curriculum aligned to the Certified Associate in Python Programming (PCAP) examination syllabus.<br/>\n",
    "https://hyperlearning.ai/knowledgebase/courses/introduction-python\n",
    "\n",
    "\n",
    "## 8. Classes and Objects Part 1\n",
    "https://hyperlearning.ai/knowledgebase/courses/introduction-python/modules/8/classes-and-objects-part-1\n",
    "\n",
    "In this module we will introduce the object oriented programming (OOP) paradigm - a means to model the world and our software applications as objects that interact with each other. Supported by hands-on examples in Python, we will explore the fundamental concepts in object oriented programming, including:\n",
    "\n",
    "* **Classes** - classes, superclasses, subclasses, inheritance, and creating objects\n",
    "* **Class Attributes** - class variables, instance variables, managing attributes and explicit constructor invocation\n",
    "* **Class Methods** - defining and using class methods, the self parameter, the init method and the str method\n",
    "* **Inheritance** - inheritance, overriding, single inheritance and multiple inheritance\n",
    "* **Constructors** - writing and using constructors\n",
    "* **Introspection** - dict, name, module and bases properties, and examining class structure"
   ]
  },
  {
   "cell_type": "markdown",
   "metadata": {},
   "source": [
    "### 1. Programming Paradigms\n",
    "#### 1.1. Imperative Programming"
   ]
  },
  {
   "cell_type": "code",
   "execution_count": 3,
   "metadata": {},
   "outputs": [
    {
     "name": "stdout",
     "output_type": "stream",
     "text": [
      "The sum of the numbers in [1, 2, 3, 4, 5] is: 15\n"
     ]
    }
   ],
   "source": [
    "# Write a program using imperative programming to calculate the sum of a given list of numbers\n",
    "sum = 0\n",
    "my_numbers = [1, 2, 3, 4, 5]\n",
    "for number in my_numbers:\n",
    "    sum += number\n",
    "print(f'The sum of the numbers in {my_numbers} is: {sum}')"
   ]
  },
  {
   "cell_type": "code",
   "execution_count": 5,
   "metadata": {},
   "outputs": [
    {
     "name": "stdout",
     "output_type": "stream",
     "text": [
      "15\n",
      "15\n"
     ]
    }
   ],
   "source": [
    "from functools import reduce\n",
    "\n",
    "# Write a program using functional programming to calculate the sum of a given list of numbers\n",
    "def add(x, y):\n",
    "    return x + y\n",
    "sum = reduce(add, my_numbers)\n",
    "print(sum)\n",
    "\n",
    "# Write a program using functional programming and a lambda function to calculate the sum of a given list of numbers\n",
    "sum = reduce(lambda x, y: x + y, my_numbers)\n",
    "print(sum)"
   ]
  },
  {
   "cell_type": "markdown",
   "metadata": {},
   "source": [
    "### 2. OOP Fundamentals\n",
    "#### 2.2.1. Creating Objects"
   ]
  },
  {
   "cell_type": "code",
   "execution_count": 1,
   "metadata": {},
   "outputs": [],
   "source": [
    "# Update sys.path so that it can find our formulapy module\n",
    "import sys\n",
    "sys.path.append('examples/formulapy')"
   ]
  },
  {
   "cell_type": "code",
   "execution_count": 2,
   "metadata": {},
   "outputs": [],
   "source": [
    "# Import our formulapy module\n",
    "from formulapy import Car"
   ]
  },
  {
   "cell_type": "code",
   "execution_count": 3,
   "metadata": {},
   "outputs": [
    {
     "ename": "TypeError",
     "evalue": "__init__() missing 8 required positional arguments: 'number_doors', 'registration_number', 'make', 'model', 'year_manufactured', 'maximum_speed', 'acceleration_rate', and 'deceleration_rate'",
     "output_type": "error",
     "traceback": [
      "\u001b[0;31m---------------------------------------------------------------------------\u001b[0m",
      "\u001b[0;31mTypeError\u001b[0m                                 Traceback (most recent call last)",
      "\u001b[0;32m<ipython-input-3-0baf2074a667>\u001b[0m in \u001b[0;36m<module>\u001b[0;34m\u001b[0m\n\u001b[1;32m      1\u001b[0m \u001b[0;31m# Try to create a new car object without the required arguments\u001b[0m\u001b[0;34m\u001b[0m\u001b[0;34m\u001b[0m\u001b[0;34m\u001b[0m\u001b[0m\n\u001b[0;32m----> 2\u001b[0;31m \u001b[0mmy_car\u001b[0m \u001b[0;34m=\u001b[0m \u001b[0mCar\u001b[0m\u001b[0;34m(\u001b[0m\u001b[0;34m)\u001b[0m\u001b[0;34m\u001b[0m\u001b[0;34m\u001b[0m\u001b[0m\n\u001b[0m",
      "\u001b[0;31mTypeError\u001b[0m: __init__() missing 8 required positional arguments: 'number_doors', 'registration_number', 'make', 'model', 'year_manufactured', 'maximum_speed', 'acceleration_rate', and 'deceleration_rate'"
     ]
    }
   ],
   "source": [
    "# Try to create a new car object without the required arguments\n",
    "my_car = Car()"
   ]
  },
  {
   "cell_type": "code",
   "execution_count": 4,
   "metadata": {},
   "outputs": [
    {
     "name": "stdout",
     "output_type": "stream",
     "text": [
      "<class 'formulapy.Car'>\n",
      "Car{'number_doors': 0, 'registration_number': 'MERC 123', 'make': 'Mercedes', 'model': 'AMG F1 W10 EQ Power+', 'year_manufactured': 2019, 'maximum_speed': 200, 'acceleration_rate': 20, 'deceleration_rate': 50, 'mileage_miles': 0, 'speed_mph': 0}\n"
     ]
    }
   ],
   "source": [
    "# Create a new car object\n",
    "mercedes_f1 = Car(number_doors = 0,\n",
    "                  registration_number = 'MERC 123',\n",
    "                  make = 'Mercedes',\n",
    "                  model = 'AMG F1 W10 EQ Power+',\n",
    "                  year_manufactured = 2019,\n",
    "                  maximum_speed = 200,\n",
    "                  acceleration_rate = 20,\n",
    "                  deceleration_rate = 50)\n",
    "\n",
    "# Print the type of object that this is i.e. the class that was used to instantiate this object\n",
    "print(type(mercedes_f1))\n",
    "\n",
    "# Print a string representation of the car object\n",
    "print(mercedes_f1)"
   ]
  },
  {
   "cell_type": "code",
   "execution_count": null,
   "metadata": {},
   "outputs": [],
   "source": []
  }
 ],
 "metadata": {
  "kernelspec": {
   "display_name": "Python 3",
   "language": "python",
   "name": "python3"
  },
  "language_info": {
   "codemirror_mode": {
    "name": "ipython",
    "version": 3
   },
   "file_extension": ".py",
   "mimetype": "text/x-python",
   "name": "python",
   "nbconvert_exporter": "python",
   "pygments_lexer": "ipython3",
   "version": "3.8.3"
  }
 },
 "nbformat": 4,
 "nbformat_minor": 4
}
