{
 "cells": [
  {
   "cell_type": "markdown",
   "metadata": {},
   "source": [
    "# Hyperlearning AI - Introduction to Python\n",
    "An introductory course to the Python 3 programming language, with a curriculum aligned to the Certified Associate in Python Programming (PCAP) examination syllabus.<br/>\n",
    "https://hyperlearning.ai/knowledgebase/courses/introduction-python\n",
    "\n",
    "\n",
    "## 4. Data Aggregates Part 2\n",
    "https://hyperlearning.ai/knowledgebase/courses/introduction-python/modules/5/data-aggregates-part-2\n",
    "\n",
    "In this module we will introduce additional common collection data structures available in Python and associated methods, including:\n",
    "\n",
    "* **Tuples** - constructing, accessing and manipulating tuple data collection structures\n",
    "* **Dictionaries** - constructing, accessing and manipulating dictionary data collection structures"
   ]
  },
  {
   "cell_type": "markdown",
   "metadata": {},
   "source": [
    "### 1. Tuples\n",
    "#### 1.1. Defining a Tuple"
   ]
  },
  {
   "cell_type": "code",
   "execution_count": 18,
   "metadata": {},
   "outputs": [
    {
     "name": "stdout",
     "output_type": "stream",
     "text": [
      "()\n",
      "('elem1',)\n",
      "(10,)\n",
      "('a',)\n",
      "<class 'tuple'>\n",
      "<class 'str'>\n",
      "(1, 2, 3, 4, 5)\n"
     ]
    }
   ],
   "source": [
    "# Create an empty tuple\n",
    "empty_tuple = ()\n",
    "print(empty_tuple)\n",
    "\n",
    "# Create a tuple with only 1 element by using a trailing comma\n",
    "tuple_one_element_1 = 'elem1', \n",
    "print(tuple_one_element_1)\n",
    "tuple_one_element_2 = 10, \n",
    "print(tuple_one_element_2)\n",
    "tuple_one_element_3 = ('a', )\n",
    "print(tuple_one_element_3)\n",
    "\n",
    "# If we forget the trailing comma, then Python will recognise it as a string\n",
    "print(type(tuple_one_element_1))\n",
    "tuple_one_element_4 = ('a')\n",
    "print(type(tuple_one_element_4))\n",
    "\n",
    "# Create a tuple with 5 elements\n",
    "my_tuple = (1, 2, 3, 4, 5)\n",
    "print(my_tuple)"
   ]
  },
  {
   "cell_type": "code",
   "execution_count": 10,
   "metadata": {},
   "outputs": [
    {
     "data": {
      "text/plain": [
       "('a', 'b', 'c')"
      ]
     },
     "execution_count": 10,
     "metadata": {},
     "output_type": "execute_result"
    }
   ],
   "source": [
    "# Initialise a tuple with a list\n",
    "my_tuple_from_a_list = tuple([\"a\", \"b\", \"c\"])\n",
    "my_tuple_from_a_list"
   ]
  },
  {
   "cell_type": "markdown",
   "metadata": {},
   "source": [
    "#### 1.2. Standard for Heterogeneity"
   ]
  },
  {
   "cell_type": "code",
   "execution_count": 7,
   "metadata": {},
   "outputs": [
    {
     "name": "stdout",
     "output_type": "stream",
     "text": [
      "('Barack', 'Obama', 59)\n",
      "5\n"
     ]
    }
   ],
   "source": [
    "# Create a heterogeneous tuple containing information about an individual\n",
    "individual_tuple = (\"Barack\", \"Obama\", 59)\n",
    "print(individual_tuple)"
   ]
  },
  {
   "cell_type": "markdown",
   "metadata": {},
   "source": [
    "#### 1.4. Index and Negative Indexing"
   ]
  },
  {
   "cell_type": "code",
   "execution_count": 13,
   "metadata": {},
   "outputs": [
    {
     "name": "stdout",
     "output_type": "stream",
     "text": [
      "Barack\n",
      "59\n",
      "American\n",
      "1.85\n"
     ]
    }
   ],
   "source": [
    "# Access elements in a tuple by their index numbers\n",
    "my_tuple = (\"Barack\", \"Obama\", \"04/08/1961\", 59, \"Male\", 1.85, \"American\")\n",
    "print(my_tuple[0])\n",
    "print(my_tuple[3])\n",
    "print(my_tuple[-1])\n",
    "print(my_tuple[-2])"
   ]
  },
  {
   "cell_type": "markdown",
   "metadata": {},
   "source": [
    "#### 1.5. Slice Notation"
   ]
  },
  {
   "cell_type": "code",
   "execution_count": 14,
   "metadata": {},
   "outputs": [
    {
     "name": "stdout",
     "output_type": "stream",
     "text": [
      "('Barack', 'Obama', '04/08/1961', 59, 'Male', 1.85, 'American')\n",
      "('04/08/1961', 59, 'Male', 1.85, 'American')\n",
      "('Barack', 'Obama', '04/08/1961', 59)\n",
      "('04/08/1961', 59, 'Male')\n",
      "('Obama', 59, 1.85)\n"
     ]
    }
   ],
   "source": [
    "# Use slice notation on tuples\n",
    "print(my_tuple[:])\n",
    "print(my_tuple[2:])\n",
    "print(my_tuple[:4])\n",
    "print(my_tuple[2:5])\n",
    "print(my_tuple[1::2])"
   ]
  },
  {
   "cell_type": "markdown",
   "metadata": {},
   "source": [
    "#### 1.6. Tuple Length"
   ]
  },
  {
   "cell_type": "code",
   "execution_count": 15,
   "metadata": {},
   "outputs": [
    {
     "name": "stdout",
     "output_type": "stream",
     "text": [
      "7\n"
     ]
    }
   ],
   "source": [
    "# Using the len() function on tuples\n",
    "print(len(my_tuple))"
   ]
  },
  {
   "cell_type": "markdown",
   "metadata": {},
   "source": [
    "#### 1.7. Tuple Membership"
   ]
  },
  {
   "cell_type": "code",
   "execution_count": 16,
   "metadata": {},
   "outputs": [
    {
     "name": "stdout",
     "output_type": "stream",
     "text": [
      "This tuple correponds to information about Barack Obama\n"
     ]
    }
   ],
   "source": [
    "# Test whether an element exists in a tuple\n",
    "if 'Obama' in my_tuple:\n",
    "    print(f\"This tuple correponds to information about Barack Obama\")\n",
    "else:\n",
    "    print(f\"This tuple does not correspond to information about Barack Obama\")"
   ]
  },
  {
   "cell_type": "markdown",
   "metadata": {},
   "source": [
    "#### 1.8. Deleting Tuples"
   ]
  },
  {
   "cell_type": "code",
   "execution_count": 17,
   "metadata": {},
   "outputs": [
    {
     "name": "stdout",
     "output_type": "stream",
     "text": [
      "('a', 'b', 'c')\n"
     ]
    },
    {
     "ename": "NameError",
     "evalue": "name 'my_tuple_from_a_list' is not defined",
     "output_type": "error",
     "traceback": [
      "\u001b[0;31m---------------------------------------------------------------------------\u001b[0m",
      "\u001b[0;31mNameError\u001b[0m                                 Traceback (most recent call last)",
      "\u001b[0;32m<ipython-input-17-7299abfd2c7f>\u001b[0m in \u001b[0;36m<module>\u001b[0;34m\u001b[0m\n\u001b[1;32m      1\u001b[0m \u001b[0mprint\u001b[0m\u001b[0;34m(\u001b[0m\u001b[0mmy_tuple_from_a_list\u001b[0m\u001b[0;34m)\u001b[0m\u001b[0;34m\u001b[0m\u001b[0;34m\u001b[0m\u001b[0m\n\u001b[1;32m      2\u001b[0m \u001b[0;32mdel\u001b[0m \u001b[0mmy_tuple_from_a_list\u001b[0m\u001b[0;34m\u001b[0m\u001b[0;34m\u001b[0m\u001b[0m\n\u001b[0;32m----> 3\u001b[0;31m \u001b[0mprint\u001b[0m\u001b[0;34m(\u001b[0m\u001b[0mmy_tuple_from_a_list\u001b[0m\u001b[0;34m)\u001b[0m\u001b[0;34m\u001b[0m\u001b[0;34m\u001b[0m\u001b[0m\n\u001b[0m",
      "\u001b[0;31mNameError\u001b[0m: name 'my_tuple_from_a_list' is not defined"
     ]
    }
   ],
   "source": [
    "# Delete a tuple\n",
    "print(my_tuple_from_a_list)\n",
    "del my_tuple_from_a_list\n",
    "print(my_tuple_from_a_list)"
   ]
  },
  {
   "cell_type": "markdown",
   "metadata": {},
   "source": [
    "#### 1.9. Joining Tuples"
   ]
  },
  {
   "cell_type": "code",
   "execution_count": 19,
   "metadata": {},
   "outputs": [
    {
     "name": "stdout",
     "output_type": "stream",
     "text": [
      "('a', 1, 'b', 2, 'c', 3, 'd', 4, 'e', 5, 'f', 6)\n"
     ]
    }
   ],
   "source": [
    "# Join two tuples to create a new tuple\n",
    "my_first_tuple = ('a', 1, 'b', 2, 'c', 3)\n",
    "my_second_tuple = ('d', 4, 'e', 5, 'f', 6)\n",
    "my_third_tuple = my_first_tuple + my_second_tuple\n",
    "print(my_third_tuple)"
   ]
  },
  {
   "cell_type": "markdown",
   "metadata": {},
   "source": [
    "#### 1.10. Tuple Assignment"
   ]
  },
  {
   "cell_type": "code",
   "execution_count": 22,
   "metadata": {},
   "outputs": [
    {
     "name": "stdout",
     "output_type": "stream",
     "text": [
      "('Barack', 'Obama', 59)\n",
      "<class 'tuple'>\n"
     ]
    }
   ],
   "source": [
    "# Use tuple packing to pack values into a single tuple\n",
    "barack_obama = \"Barack\", \"Obama\", 59\n",
    "print(barack_obama)\n",
    "print(type(barack_obama))"
   ]
  },
  {
   "cell_type": "code",
   "execution_count": 23,
   "metadata": {},
   "outputs": [
    {
     "name": "stdout",
     "output_type": "stream",
     "text": [
      "Barack\n",
      "Obama\n",
      "59\n"
     ]
    }
   ],
   "source": [
    "# Use sequence unpacking to assign values to variables from a given sequence\n",
    "barack_obama_first_name, barack_obama_last_name, barack_obama_age = barack_obama\n",
    "print(barack_obama_first_name)\n",
    "print(barack_obama_last_name)\n",
    "print(barack_obama_age)"
   ]
  },
  {
   "cell_type": "code",
   "execution_count": 24,
   "metadata": {},
   "outputs": [
    {
     "name": "stdout",
     "output_type": "stream",
     "text": [
      "10\n",
      "99\n",
      "99\n",
      "10\n"
     ]
    }
   ],
   "source": [
    "# Swap values assigned to two different variables\n",
    "a = 10\n",
    "b = 99\n",
    "print(a)\n",
    "print(b)\n",
    "(a, b) = (b, a)\n",
    "print(a)\n",
    "print(b)"
   ]
  },
  {
   "cell_type": "markdown",
   "metadata": {},
   "source": [
    "#### 1.11. Tuple Methods"
   ]
  },
  {
   "cell_type": "code",
   "execution_count": 27,
   "metadata": {},
   "outputs": [
    {
     "name": "stdout",
     "output_type": "stream",
     "text": [
      "4\n",
      "6\n",
      "0\n",
      "0\n",
      "1\n"
     ]
    },
    {
     "ename": "ValueError",
     "evalue": "tuple.index(x): x not in tuple",
     "output_type": "error",
     "traceback": [
      "\u001b[0;31m---------------------------------------------------------------------------\u001b[0m",
      "\u001b[0;31mValueError\u001b[0m                                Traceback (most recent call last)",
      "\u001b[0;32m<ipython-input-27-ae8e4eb7a1fc>\u001b[0m in \u001b[0;36m<module>\u001b[0;34m\u001b[0m\n\u001b[1;32m     10\u001b[0m \u001b[0mprint\u001b[0m\u001b[0;34m(\u001b[0m\u001b[0mmy_tuple\u001b[0m\u001b[0;34m.\u001b[0m\u001b[0mindex\u001b[0m\u001b[0;34m(\u001b[0m\u001b[0;36m0\u001b[0m\u001b[0;34m)\u001b[0m\u001b[0;34m)\u001b[0m\u001b[0;34m\u001b[0m\u001b[0;34m\u001b[0m\u001b[0m\n\u001b[1;32m     11\u001b[0m \u001b[0mprint\u001b[0m\u001b[0;34m(\u001b[0m\u001b[0mmy_tuple\u001b[0m\u001b[0;34m.\u001b[0m\u001b[0mindex\u001b[0m\u001b[0;34m(\u001b[0m\u001b[0;36m1\u001b[0m\u001b[0;34m)\u001b[0m\u001b[0;34m)\u001b[0m\u001b[0;34m\u001b[0m\u001b[0;34m\u001b[0m\u001b[0m\n\u001b[0;32m---> 12\u001b[0;31m \u001b[0mprint\u001b[0m\u001b[0;34m(\u001b[0m\u001b[0mmy_tuple\u001b[0m\u001b[0;34m.\u001b[0m\u001b[0mindex\u001b[0m\u001b[0;34m(\u001b[0m\u001b[0;36m2\u001b[0m\u001b[0;34m)\u001b[0m\u001b[0;34m)\u001b[0m\u001b[0;34m\u001b[0m\u001b[0;34m\u001b[0m\u001b[0m\n\u001b[0m",
      "\u001b[0;31mValueError\u001b[0m: tuple.index(x): x not in tuple"
     ]
    }
   ],
   "source": [
    "# Create a tuple\n",
    "my_tuple = (0, 1, 0, 1, 1, 0, 0, 1, 1, 1)\n",
    "\n",
    "# tuple.count(x)\n",
    "print(my_tuple.count(0))\n",
    "print(my_tuple.count(1))\n",
    "print(my_tuple.count(2))\n",
    "\n",
    "# tuple.index(x)\n",
    "print(my_tuple.index(0))\n",
    "print(my_tuple.index(1))\n",
    "print(my_tuple.index(2))"
   ]
  },
  {
   "cell_type": "markdown",
   "metadata": {},
   "source": [
    "#### 1.12. Iterating Tuples"
   ]
  },
  {
   "cell_type": "code",
   "execution_count": 28,
   "metadata": {},
   "outputs": [
    {
     "name": "stdout",
     "output_type": "stream",
     "text": [
      "Diatomic Sequence - Element #1: 0\n",
      "Diatomic Sequence - Element #2: 1\n",
      "Diatomic Sequence - Element #3: 1\n",
      "Diatomic Sequence - Element #4: 2\n",
      "Diatomic Sequence - Element #5: 1\n",
      "Diatomic Sequence - Element #6: 3\n",
      "Diatomic Sequence - Element #7: 2\n",
      "Diatomic Sequence - Element #8: 3\n",
      "Diatomic Sequence - Element #9: 1\n",
      "Diatomic Sequence - Element #10: 4\n",
      "Diatomic Sequence - Element #11: 3\n",
      "Diatomic Sequence - Element #12: 5\n",
      "Diatomic Sequence - Element #13: 2\n",
      "Diatomic Sequence - Element #14: 5\n",
      "Diatomic Sequence - Element #15: 3\n",
      "Diatomic Sequence - Element #16: 4\n",
      "Diatomic Sequence - Element #1: 0\n",
      "Diatomic Sequence - Element #2: 1\n",
      "Diatomic Sequence - Element #3: 1\n",
      "Diatomic Sequence - Element #4: 2\n",
      "Diatomic Sequence - Element #5: 1\n",
      "Diatomic Sequence - Element #6: 3\n",
      "Diatomic Sequence - Element #7: 2\n",
      "Diatomic Sequence - Element #8: 3\n",
      "Diatomic Sequence - Element #9: 1\n",
      "Diatomic Sequence - Element #10: 4\n",
      "Diatomic Sequence - Element #11: 3\n",
      "Diatomic Sequence - Element #12: 5\n",
      "Diatomic Sequence - Element #13: 2\n",
      "Diatomic Sequence - Element #14: 5\n",
      "Diatomic Sequence - Element #15: 3\n",
      "Diatomic Sequence - Element #16: 4\n",
      "0\n",
      "1\n",
      "1\n",
      "2\n",
      "1\n",
      "3\n",
      "2\n",
      "3\n",
      "1\n",
      "4\n",
      "3\n",
      "5\n",
      "2\n",
      "5\n",
      "3\n",
      "4\n",
      "Diatomic Sequence - Element #1: 0\n",
      "Diatomic Sequence - Element #2: 1\n",
      "Diatomic Sequence - Element #3: 1\n",
      "Diatomic Sequence - Element #4: 2\n",
      "Diatomic Sequence - Element #5: 1\n",
      "Diatomic Sequence - Element #6: 3\n",
      "Diatomic Sequence - Element #7: 2\n",
      "Diatomic Sequence - Element #8: 3\n",
      "Diatomic Sequence - Element #9: 1\n",
      "Diatomic Sequence - Element #10: 4\n",
      "Diatomic Sequence - Element #11: 3\n",
      "Diatomic Sequence - Element #12: 5\n",
      "Diatomic Sequence - Element #13: 2\n",
      "Diatomic Sequence - Element #14: 5\n",
      "Diatomic Sequence - Element #15: 3\n",
      "Diatomic Sequence - Element #16: 4\n"
     ]
    }
   ],
   "source": [
    "# Create a tuple\n",
    "my_diatomic_tuple = (0, 1, 1, 2, 1, 3, 2, 3, 1, 4, 3, 5, 2, 5, 3, 4)\n",
    "\n",
    "# Iterate the tuple using a while loop\n",
    "i = 0\n",
    "while i < len(my_diatomic_tuple):\n",
    "    print(f'Diatomic Sequence - Element #{i + 1}: {my_diatomic_tuple[i]}')\n",
    "    i += 1\n",
    "\n",
    "# Iterate the tuple using a for loop with the range function\n",
    "for x in range(len(my_diatomic_tuple)):\n",
    "    print(f'Diatomic Sequence - Element #{x + 1}: {my_diatomic_tuple[x]}')\n",
    "\n",
    "# Iterate the tuple using a for loop with the in operator\n",
    "for elem in my_diatomic_tuple:\n",
    "    print(elem)\n",
    "\n",
    "# Iterate the tuple using a for loop with the in operator and enumerate function\n",
    "for idx, elem in enumerate(my_diatomic_tuple):\n",
    "    print(f'Diatomic Sequence - Element #{idx + 1}: {elem}')"
   ]
  },
  {
   "cell_type": "markdown",
   "metadata": {},
   "source": [
    "#### 1.13. Tuples as Return Values"
   ]
  },
  {
   "cell_type": "code",
   "execution_count": 32,
   "metadata": {},
   "outputs": [
    {
     "name": "stdout",
     "output_type": "stream",
     "text": [
      "The circumference of a circle of radius 10cm is 62.83185307179586cm\n",
      "The area of a circle of radius 10cm is 314.1592653589793cm²\n"
     ]
    }
   ],
   "source": [
    "import math\n",
    "\n",
    "# Return both the circumference and area of a circle given a radius\n",
    "def circle(radius):\n",
    "    \"\"\" Return the (circumference, area) of a circle given its radius \"\"\"\n",
    "    circumference = 2 * math.pi * radius\n",
    "    area = math.pi * radius * radius\n",
    "    return (circumference, area)\n",
    "\n",
    "my_radius = 10\n",
    "my_cirumference, my_area = circle(my_radius)\n",
    "print(f'The circumference of a circle of radius {my_radius}cm is {my_cirumference}cm')\n",
    "print(f'The area of a circle of radius {my_radius}cm is {my_area}cm\\u00b2')"
   ]
  },
  {
   "cell_type": "markdown",
   "metadata": {},
   "source": [
    "#### 1.14. Tuples in Lists"
   ]
  },
  {
   "cell_type": "code",
   "execution_count": 37,
   "metadata": {},
   "outputs": [
    {
     "name": "stdout",
     "output_type": "stream",
     "text": [
      "[(1, 'abc'), (2, 'def'), (3, 'ghi')]\n",
      "(1, 'abc')\n",
      "1\n",
      "(2, 'def')\n",
      "def\n",
      "(3, 'ghi')\n",
      "3\n",
      "<class 'list'>\n"
     ]
    }
   ],
   "source": [
    "# Create a list of tuples\n",
    "my_list_of_tuples = [(1, 'abc'), (2, 'def'), (3, 'ghi')]\n",
    "print(my_list_of_tuples)\n",
    "print(my_list_of_tuples[0])\n",
    "print(my_list_of_tuples[0][0])\n",
    "print(my_list_of_tuples[1])\n",
    "print(my_list_of_tuples[1][1])\n",
    "print(my_list_of_tuples[2])\n",
    "print(my_list_of_tuples[2][0])\n",
    "print(type(my_list_of_tuples))"
   ]
  },
  {
   "cell_type": "markdown",
   "metadata": {},
   "source": [
    "#### 1.15. Lists in Tuples"
   ]
  },
  {
   "cell_type": "code",
   "execution_count": 38,
   "metadata": {},
   "outputs": [
    {
     "name": "stdout",
     "output_type": "stream",
     "text": [
      "([1, 2, 3], ['abc', 'def', 'ghi'])\n",
      "[1, 2, 3]\n",
      "1\n",
      "['abc', 'def', 'ghi']\n",
      "def\n",
      "<class 'tuple'>\n"
     ]
    }
   ],
   "source": [
    "# Create a tuple of lists\n",
    "my_tuple_of_lists = ([1, 2, 3], ['abc', 'def', 'ghi'])\n",
    "print(my_tuple_of_lists)\n",
    "print(my_tuple_of_lists[0])\n",
    "print(my_tuple_of_lists[0][0])\n",
    "print(my_tuple_of_lists[1])\n",
    "print(my_tuple_of_lists[1][1])\n",
    "print(type(my_tuple_of_lists))"
   ]
  },
  {
   "cell_type": "markdown",
   "metadata": {},
   "source": [
    "#### 1.16. Multi-Dimensional Tuples"
   ]
  },
  {
   "cell_type": "code",
   "execution_count": 40,
   "metadata": {},
   "outputs": [
    {
     "name": "stdout",
     "output_type": "stream",
     "text": [
      "1 0 0 \n",
      "0 1 0 \n",
      "0 0 1 \n"
     ]
    }
   ],
   "source": [
    "# Create an immutable 3 x 3 identity matrix\n",
    "identity_matrix = ((1, 0, 0), (0, 1, 0), (0, 0, 1))\n",
    "for row in identity_matrix:\n",
    "    for elem in row:\n",
    "        print(elem, end=' ')\n",
    "    print()"
   ]
  },
  {
   "cell_type": "code",
   "execution_count": null,
   "metadata": {},
   "outputs": [],
   "source": []
  }
 ],
 "metadata": {
  "kernelspec": {
   "display_name": "Python 3",
   "language": "python",
   "name": "python3"
  },
  "language_info": {
   "codemirror_mode": {
    "name": "ipython",
    "version": 3
   },
   "file_extension": ".py",
   "mimetype": "text/x-python",
   "name": "python",
   "nbconvert_exporter": "python",
   "pygments_lexer": "ipython3",
   "version": "3.8.3"
  }
 },
 "nbformat": 4,
 "nbformat_minor": 4
}
