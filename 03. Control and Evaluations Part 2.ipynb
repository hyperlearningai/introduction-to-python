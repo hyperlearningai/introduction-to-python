{
 "cells": [
  {
   "cell_type": "markdown",
   "metadata": {},
   "source": [
    "# HyperLearning AI - Introduction to Python\n",
    "An introductory course to the Python 3 programming language, with a curriculum aligned to the Certified Associate in Python Programming (PCAP) examination syllabus.<br/>\n",
    "https://hyperlearning.ai/knowledgebase/courses/introduction-python\n",
    "\n",
    "\n",
    "## 03. Control and Evaluations Part 2\n",
    "https://hyperlearning.ai/knowledgebase/courses/introduction-python/modules/3/control-and-evaluations-part-2\n",
    "\n",
    "In this module we will continue to cover the fundamental building blocks of the Python programming language, namely:\n",
    "\n",
    "* **Functions and Methods** - the difference between methods and functions\n",
    "* **Input and Output** - input, print, int, float and str functions\n",
    "* **Formatting** - formatting the output of the print function, and formatted string literals\n",
    "* **Conditional Statements** - if, if-else, if-elif, if-elif-else statements and the pass instruction\n",
    "* **Basic Lists** - constructing, accessing and manipulating list data collection structures\n",
    "* **Basic Strings** - constructing, accessing and operating on string literals\n",
    "* **Loops** - while loops, for loops, and controlling loops using break and continue statements"
   ]
  },
  {
   "cell_type": "markdown",
   "metadata": {},
   "source": [
    "### 1. Functions and Methods"
   ]
  },
  {
   "cell_type": "code",
   "execution_count": 1,
   "metadata": {},
   "outputs": [
    {
     "name": "stdout",
     "output_type": "stream",
     "text": [
      "240\n"
     ]
    }
   ],
   "source": [
    "# A simple function to return the product of two given numbers\n",
    "def product(number_1, number_2):\n",
    "    return number_1 * number_2\n",
    "\n",
    "print(product(12, 20))"
   ]
  },
  {
   "cell_type": "code",
   "execution_count": 4,
   "metadata": {},
   "outputs": [
    {
     "name": "stdout",
     "output_type": "stream",
     "text": [
      "12\n"
     ]
    }
   ],
   "source": [
    "# The common len() function given a string\n",
    "my_string = 'Hello World!'\n",
    "print(len(my_string))"
   ]
  },
  {
   "cell_type": "code",
   "execution_count": 2,
   "metadata": {},
   "outputs": [
    {
     "name": "stdout",
     "output_type": "stream",
     "text": [
      "HELLO WORLD!\n"
     ]
    }
   ],
   "source": [
    "# A common string method that will return the string all in uppercase\n",
    "my_string = 'Hello World!'\n",
    "print(my_string.upper())"
   ]
  },
  {
   "cell_type": "markdown",
   "metadata": {},
   "source": [
    "### 2. Input and Output\n",
    "#### 2.1. Input Function"
   ]
  },
  {
   "cell_type": "code",
   "execution_count": 2,
   "metadata": {},
   "outputs": [
    {
     "name": "stdout",
     "output_type": "stream",
     "text": [
      "Jillur Quddus\n",
      "Your Full Name is: Jillur Quddus\n"
     ]
    }
   ],
   "source": [
    "# Input function without a prompt message argument\n",
    "full_name = input()\n",
    "print(f'Your Full Name is: {full_name}')"
   ]
  },
  {
   "cell_type": "code",
   "execution_count": 3,
   "metadata": {},
   "outputs": [
    {
     "name": "stdout",
     "output_type": "stream",
     "text": [
      "Please enter your first name: Jillur\n",
      "Please enter your last name: Quddus\n",
      "Hello Jillur Quddus!\n"
     ]
    }
   ],
   "source": [
    "# Input function with a prompt message argument\n",
    "fname = input('Please enter your first name: ')\n",
    "lname = input('Please enter your last name: ')\n",
    "print(f'Hello {fname} {lname}!')"
   ]
  },
  {
   "cell_type": "markdown",
   "metadata": {},
   "source": [
    "#### 2.2. Int Function"
   ]
  },
  {
   "cell_type": "code",
   "execution_count": 15,
   "metadata": {},
   "outputs": [
    {
     "name": "stdout",
     "output_type": "stream",
     "text": [
      "Please enter your age: 28\n",
      "You are 28 years old\n"
     ]
    }
   ],
   "source": [
    "# Integer input using the int function (default base 10)\n",
    "age = int(input('Please enter your age: '))\n",
    "print(f'You are {age} years old')"
   ]
  },
  {
   "cell_type": "code",
   "execution_count": 16,
   "metadata": {},
   "outputs": [
    {
     "name": "stdout",
     "output_type": "stream",
     "text": [
      "Please enter your age: 1c\n",
      "You are 28 years old\n"
     ]
    }
   ],
   "source": [
    "# Integer input using the int function and base 16\n",
    "# For example 28 (base 10) would be 1c in base 16\n",
    "age = int(input('Please enter your age: '), 16)\n",
    "print(f'You are {age} years old')"
   ]
  },
  {
   "cell_type": "markdown",
   "metadata": {},
   "source": [
    "#### 2.3. Float Function"
   ]
  },
  {
   "cell_type": "code",
   "execution_count": 19,
   "metadata": {},
   "outputs": [
    {
     "name": "stdout",
     "output_type": "stream",
     "text": [
      "Please enter your height in metres: 2\n",
      "You are 2.0m tall\n"
     ]
    }
   ],
   "source": [
    "# Floating point input using the float function\n",
    "height = float(input('Please enter your height in metres: '))\n",
    "print(f'You are {height}m tall')"
   ]
  },
  {
   "cell_type": "markdown",
   "metadata": {},
   "source": [
    "#### 2.4. Str Function"
   ]
  },
  {
   "cell_type": "code",
   "execution_count": 12,
   "metadata": {},
   "outputs": [
    {
     "ename": "TypeError",
     "evalue": "can only concatenate str (not \"float\") to str",
     "output_type": "error",
     "traceback": [
      "\u001b[1;31m---------------------------------------------------------------------------\u001b[0m",
      "\u001b[1;31mTypeError\u001b[0m                                 Traceback (most recent call last)",
      "\u001b[1;32m<ipython-input-12-32674aad3599>\u001b[0m in \u001b[0;36m<module>\u001b[1;34m\u001b[0m\n\u001b[0;32m      1\u001b[0m \u001b[1;31m# Without the str function we cannot concatenate a number to a string\u001b[0m\u001b[1;33m\u001b[0m\u001b[1;33m\u001b[0m\u001b[1;33m\u001b[0m\u001b[0m\n\u001b[0;32m      2\u001b[0m \u001b[0mpi\u001b[0m \u001b[1;33m=\u001b[0m \u001b[1;36m3.141592653589793238462643\u001b[0m\u001b[1;33m\u001b[0m\u001b[1;33m\u001b[0m\u001b[0m\n\u001b[1;32m----> 3\u001b[1;33m \u001b[0mprint\u001b[0m\u001b[1;33m(\u001b[0m\u001b[1;34m'The value of π is: '\u001b[0m \u001b[1;33m+\u001b[0m \u001b[0mpi\u001b[0m\u001b[1;33m)\u001b[0m\u001b[1;33m\u001b[0m\u001b[1;33m\u001b[0m\u001b[0m\n\u001b[0m",
      "\u001b[1;31mTypeError\u001b[0m: can only concatenate str (not \"float\") to str"
     ]
    }
   ],
   "source": [
    "# Without the str function we cannot concatenate a number to a string\n",
    "pi = 3.141592653589793238462643\n",
    "print('The value of π is: ' + pi)"
   ]
  },
  {
   "cell_type": "code",
   "execution_count": 13,
   "metadata": {},
   "outputs": [
    {
     "name": "stdout",
     "output_type": "stream",
     "text": [
      "The value of π is: 3.141592653589793\n"
     ]
    }
   ],
   "source": [
    "# The str function will convert pi into a string\n",
    "print('The value of π is: ' + str(pi))"
   ]
  },
  {
   "cell_type": "markdown",
   "metadata": {},
   "source": [
    "#### 2.5. Print Function"
   ]
  },
  {
   "cell_type": "code",
   "execution_count": 25,
   "metadata": {},
   "outputs": [
    {
     "name": "stdout",
     "output_type": "stream",
     "text": [
      "My name is Jillur Quddus\n"
     ]
    }
   ],
   "source": [
    "# Print a given string\n",
    "print(\"My name is Jillur Quddus\")"
   ]
  },
  {
   "cell_type": "code",
   "execution_count": 26,
   "metadata": {},
   "outputs": [
    {
     "name": "stdout",
     "output_type": "stream",
     "text": [
      "Software Engineer Data Scientist Technical Architect\n"
     ]
    }
   ],
   "source": [
    "# Print a given collection of strings\n",
    "print(\"Software Engineer\", \"Data Scientist\", \"Technical Architect\")"
   ]
  },
  {
   "cell_type": "code",
   "execution_count": 27,
   "metadata": {},
   "outputs": [
    {
     "name": "stdout",
     "output_type": "stream",
     "text": [
      "Software Engineer, Data Scientist, Technical Architect\n"
     ]
    }
   ],
   "source": [
    "# Print a given collection of strings with a separator\n",
    "print(\"Software Engineer\", \"Data Scientist\", \"Technical Architect\", sep=', ')"
   ]
  },
  {
   "cell_type": "code",
   "execution_count": 28,
   "metadata": {},
   "outputs": [
    {
     "name": "stdout",
     "output_type": "stream",
     "text": [
      "My Roles: Software Engineer, Data Scientist, Technical Architect\n"
     ]
    }
   ],
   "source": [
    "# Print a list of occupations on the same line\n",
    "print(\"My Roles\", end=\": \")\n",
    "print(\"Software Engineer\", \"Data Scientist\", \"Technical Architect\", sep=', ')"
   ]
  },
  {
   "cell_type": "markdown",
   "metadata": {},
   "source": [
    "### 3. Formatting\n",
    "#### 3.1. Formatted String Literals"
   ]
  },
  {
   "cell_type": "code",
   "execution_count": 30,
   "metadata": {},
   "outputs": [
    {
     "name": "stdout",
     "output_type": "stream",
     "text": [
      "The value of e is 2.718281828459045\n"
     ]
    }
   ],
   "source": [
    "# Print the value of e (Eulers number) using formatted string literals\n",
    "e = 2.718281828459045235360287\n",
    "print(f'The value of e is {e}')"
   ]
  },
  {
   "cell_type": "code",
   "execution_count": 31,
   "metadata": {},
   "outputs": [
    {
     "name": "stdout",
     "output_type": "stream",
     "text": [
      "The value of e to 3 decimal points is 2.718\n"
     ]
    }
   ],
   "source": [
    "# Print the value of e but to 3 decimal points\n",
    "print(f'The value of e to 3 decimal points is {e:.3f}')"
   ]
  },
  {
   "cell_type": "code",
   "execution_count": 32,
   "metadata": {},
   "outputs": [
    {
     "name": "stdout",
     "output_type": "stream",
     "text": [
      "Please enter your age: 28\n",
      "You are at least 10220 days old\n"
     ]
    }
   ],
   "source": [
    "# Print age as a number of days\n",
    "age = int(input('Please enter your age: '))\n",
    "print(f'You are at least {age * 365} days old')"
   ]
  },
  {
   "cell_type": "code",
   "execution_count": 34,
   "metadata": {},
   "outputs": [
    {
     "name": "stdout",
     "output_type": "stream",
     "text": [
      "The value of π to 3 decimal points is 3.142\n",
      "The value of e to 3 decimal points is 2.718\n"
     ]
    }
   ],
   "source": [
    "# Access common mathematical constants using the Python math module\n",
    "import math\n",
    "print(f'The value of π to 3 decimal points is {math.pi:.3f}')\n",
    "print(f'The value of e to 3 decimal points is {math.e:.3f}')"
   ]
  },
  {
   "cell_type": "markdown",
   "metadata": {},
   "source": [
    "### 4. Conditional Statements\n",
    "#### 4.1. If Statement"
   ]
  },
  {
   "cell_type": "code",
   "execution_count": 2,
   "metadata": {},
   "outputs": [
    {
     "name": "stdout",
     "output_type": "stream",
     "text": [
      "Please enter your age: 19\n",
      "You are allowed to vote in UK elections\n"
     ]
    }
   ],
   "source": [
    "# If statement using a comparison operator\n",
    "age = int(input('Please enter your age: '))\n",
    "if age >= 18:\n",
    "    print(\"You are allowed to vote in UK elections\")"
   ]
  },
  {
   "cell_type": "code",
   "execution_count": 3,
   "metadata": {},
   "outputs": [
    {
     "name": "stdout",
     "output_type": "stream",
     "text": [
      "You are allowed to work full-time, join the armed forces, drive and vote but you cannot yet adopt a child in the UK\n"
     ]
    }
   ],
   "source": [
    "# If statement using comparison and logical operators\n",
    "if age >= 16 and age < 21:\n",
    "    print(\"You are allowed to work full-time, join the armed forces, drive and vote but you cannot yet adopt a child in the UK\")"
   ]
  },
  {
   "cell_type": "code",
   "execution_count": 5,
   "metadata": {},
   "outputs": [
    {
     "name": "stdout",
     "output_type": "stream",
     "text": [
      "a and c are the same object at object memory level\n"
     ]
    }
   ],
   "source": [
    "# If statement using an identity operator\n",
    "a = 10\n",
    "b = 20\n",
    "c = a\n",
    "\n",
    "if a is b:\n",
    "    print(\"a and b are the same object at object memory level\")\n",
    "if a is c:\n",
    "    print(\"a and c are the same object at object memory level\")\n",
    "if b is c:\n",
    "    print(\"b and c are the same object at object memory level\")"
   ]
  },
  {
   "cell_type": "code",
   "execution_count": 8,
   "metadata": {},
   "outputs": [
    {
     "name": "stdout",
     "output_type": "stream",
     "text": [
      "13 is in the first ten prime numbers\n"
     ]
    }
   ],
   "source": [
    "# If statement using a membership operator\n",
    "first_ten_prime_numbers = (2, 3, 5, 7, 11, 13, 17, 19, 23, 29)\n",
    "if 13 in first_ten_prime_numbers:\n",
    "    print(\"13 is in the first ten prime numbers\")"
   ]
  },
  {
   "cell_type": "markdown",
   "metadata": {},
   "source": [
    "#### 4.2. If-else Statement"
   ]
  },
  {
   "cell_type": "code",
   "execution_count": 9,
   "metadata": {},
   "outputs": [
    {
     "name": "stdout",
     "output_type": "stream",
     "text": [
      "Please enter your age: 17\n",
      "You are not yet allowed to vote in UK elections\n"
     ]
    }
   ],
   "source": [
    "# If-else statement using a comparison operator\n",
    "age = int(input('Please enter your age: '))\n",
    "if age >= 18:\n",
    "    print(\"You ARE allowed to vote in UK elections\")\n",
    "else:\n",
    "    print(\"You are NOT yet allowed to vote in UK elections\")"
   ]
  },
  {
   "cell_type": "markdown",
   "metadata": {},
   "source": [
    "#### 4.3. If-elif Statement"
   ]
  },
  {
   "cell_type": "code",
   "execution_count": 12,
   "metadata": {},
   "outputs": [
    {
     "name": "stdout",
     "output_type": "stream",
     "text": [
      "Please enter your age: 11\n",
      "You can't do by yourself much unfortunately\n",
      "Stay in school and listen to your parents!\n",
      "But since you greater than 10 years old, you have full criminal responsibility for your actions and can be convicted of a criminal offence\n",
      "So think before you act!\n"
     ]
    }
   ],
   "source": [
    "# If-elif statements using comparison and logical operators\n",
    "age = int(input('Please enter your age: '))\n",
    "if age >= 21:\n",
    "    print(\"You are entitled to undertake all legally permissible activities in the UK\")\n",
    "elif age >= 14 and age < 16:\n",
    "    print(\"You can get a part-time job in the UK\")\n",
    "    print(\"But you cannot work full-time nor get married in the UK\")\n",
    "elif age >=16 and age < 18:\n",
    "    print(\"You can get a full-time job and get married in the UK\")\n",
    "    print(\"But you cannot yet vote in the UK\")\n",
    "elif age >=18 and age < 21:\n",
    "    print(\"You can get a full-time job, get married and vote in the UK\")\n",
    "    print(\"But you cannot adopt a child in the UK\")\n",
    "else:\n",
    "    print(\"You can't do by yourself much unfortunately\")\n",
    "    print(\"Stay in school and listen to your parents!\")\n",
    "    if age >= 10:\n",
    "        print(\"But since you greater than 10 years old, you have full criminal responsibility for your actions and can be convicted of a criminal offence in the UK\")\n",
    "        print(\"So think before you act!\")"
   ]
  },
  {
   "cell_type": "markdown",
   "metadata": {},
   "source": [
    "#### 4.4. Pass Statement"
   ]
  },
  {
   "cell_type": "code",
   "execution_count": 27,
   "metadata": {},
   "outputs": [
    {
     "name": "stdout",
     "output_type": "stream",
     "text": [
      "Please enter an integer number: 88\n",
      "88 is an even number\n"
     ]
    }
   ],
   "source": [
    "# Use the pass statement to only print if x is even\n",
    "x = int(input('Please enter an integer number: '))\n",
    "if x % 2 != 0:\n",
    "    pass\n",
    "else:\n",
    "    print(f\"{x} is an even number\")"
   ]
  },
  {
   "cell_type": "markdown",
   "metadata": {},
   "source": [
    "### 5. Basic Lists\n",
    "#### 5.1. Defining a List"
   ]
  },
  {
   "cell_type": "code",
   "execution_count": 2,
   "metadata": {},
   "outputs": [
    {
     "name": "stdout",
     "output_type": "stream",
     "text": [
      "[1, 4, 9, 16, 25]\n"
     ]
    }
   ],
   "source": [
    "# Create an empty list\n",
    "empty_list = []\n",
    "\n",
    "# Create a list containing the first five square numbers\n",
    "squares = [1, 4, 9, 16, 25]\n",
    "print(squares)"
   ]
  },
  {
   "cell_type": "markdown",
   "metadata": {},
   "source": [
    "#### 5.2. Index and Negative Indexing"
   ]
  },
  {
   "cell_type": "code",
   "execution_count": 62,
   "metadata": {},
   "outputs": [
    {
     "name": "stdout",
     "output_type": "stream",
     "text": [
      "1\n",
      "16\n",
      "25\n",
      "4\n"
     ]
    }
   ],
   "source": [
    "# Access elements in a list by their index numbers\n",
    "print(squares[0])\n",
    "print(squares[3])\n",
    "print(squares[-1])\n",
    "print(squares[-4])"
   ]
  },
  {
   "cell_type": "markdown",
   "metadata": {},
   "source": [
    "#### 5.3. List Slicing"
   ]
  },
  {
   "cell_type": "code",
   "execution_count": 63,
   "metadata": {},
   "outputs": [
    {
     "name": "stdout",
     "output_type": "stream",
     "text": [
      "[1, 4]\n",
      "[9, 16, 25]\n",
      "[1, 4, 9]\n",
      "[1, 4, 9, 16, 25]\n",
      "[9, 16]\n",
      "[25]\n",
      "[1, 4, 9]\n"
     ]
    }
   ],
   "source": [
    "# Slicing a list\n",
    "print(squares[0:2])\n",
    "print(squares[2:])\n",
    "print(squares[:3])\n",
    "print(squares[:])\n",
    "print(squares[-3:-1])\n",
    "print(squares[-1:])\n",
    "print(squares[:-2])"
   ]
  },
  {
   "cell_type": "code",
   "execution_count": 3,
   "metadata": {},
   "outputs": [
    {
     "name": "stdout",
     "output_type": "stream",
     "text": [
      "[1, 4, 9, 16, 25]\n"
     ]
    }
   ],
   "source": [
    "# Define an end index that is purposefully too large\n",
    "print(squares[0:100])"
   ]
  },
  {
   "cell_type": "markdown",
   "metadata": {},
   "source": [
    "#### 5.4. List Length"
   ]
  },
  {
   "cell_type": "code",
   "execution_count": 64,
   "metadata": {},
   "outputs": [
    {
     "name": "stdout",
     "output_type": "stream",
     "text": [
      "The length of the squares list is: 5 elements\n"
     ]
    }
   ],
   "source": [
    "# Length of a list\n",
    "print(f'The length of the squares list is: {len(squares)} elements')"
   ]
  },
  {
   "cell_type": "markdown",
   "metadata": {},
   "source": [
    "#### 5.5. List Membership"
   ]
  },
  {
   "cell_type": "code",
   "execution_count": 65,
   "metadata": {},
   "outputs": [
    {
     "name": "stdout",
     "output_type": "stream",
     "text": [
      "169 does not exist in our list of square numbers\n"
     ]
    }
   ],
   "source": [
    "# Test whether an element exists in a list\n",
    "x = 169\n",
    "if x in squares:\n",
    "    print(f\"{x} exists in our list of square numbers\")\n",
    "else:\n",
    "    print(f\"{x} does not exist in our list of square numbers\")"
   ]
  },
  {
   "cell_type": "markdown",
   "metadata": {},
   "source": [
    "#### 5.6. Modifying Elements in a List"
   ]
  },
  {
   "cell_type": "code",
   "execution_count": 66,
   "metadata": {},
   "outputs": [
    {
     "name": "stdout",
     "output_type": "stream",
     "text": [
      "[0, 4, 9, 16, 25]\n",
      "[1, 4, 9, 16, 25]\n"
     ]
    }
   ],
   "source": [
    "# Modify a specific element in a list\n",
    "squares[0] = 0\n",
    "print(squares)\n",
    "\n",
    "# Revert to the original value\n",
    "squares[0] = 1\n",
    "print(squares)"
   ]
  },
  {
   "cell_type": "markdown",
   "metadata": {},
   "source": [
    "#### 5.7. Deleting Elements and Lists"
   ]
  },
  {
   "cell_type": "code",
   "execution_count": 67,
   "metadata": {},
   "outputs": [
    {
     "name": "stdout",
     "output_type": "stream",
     "text": [
      "[1, 4, 9, 16]\n"
     ]
    },
    {
     "ename": "NameError",
     "evalue": "name 'empty_list' is not defined",
     "output_type": "error",
     "traceback": [
      "\u001b[1;31m---------------------------------------------------------------------------\u001b[0m",
      "\u001b[1;31mNameError\u001b[0m                                 Traceback (most recent call last)",
      "\u001b[1;32m<ipython-input-67-e400c12c82e4>\u001b[0m in \u001b[0;36m<module>\u001b[1;34m\u001b[0m\n\u001b[0;32m      5\u001b[0m \u001b[1;31m# Delete a list collection entirely\u001b[0m\u001b[1;33m\u001b[0m\u001b[1;33m\u001b[0m\u001b[1;33m\u001b[0m\u001b[0m\n\u001b[0;32m      6\u001b[0m \u001b[1;32mdel\u001b[0m \u001b[0mempty_list\u001b[0m\u001b[1;33m\u001b[0m\u001b[1;33m\u001b[0m\u001b[0m\n\u001b[1;32m----> 7\u001b[1;33m \u001b[0mprint\u001b[0m\u001b[1;33m(\u001b[0m\u001b[0mempty_list\u001b[0m\u001b[1;33m)\u001b[0m\u001b[1;33m\u001b[0m\u001b[1;33m\u001b[0m\u001b[0m\n\u001b[0m",
      "\u001b[1;31mNameError\u001b[0m: name 'empty_list' is not defined"
     ]
    }
   ],
   "source": [
    "# Remove a specific element from a list\n",
    "del squares[-1]\n",
    "print(squares)\n",
    "\n",
    "# Delete a list collection entirely\n",
    "del empty_list\n",
    "print(empty_list)"
   ]
  },
  {
   "cell_type": "markdown",
   "metadata": {},
   "source": [
    "#### 5.8. Joining Lists"
   ]
  },
  {
   "cell_type": "code",
   "execution_count": 68,
   "metadata": {},
   "outputs": [
    {
     "name": "stdout",
     "output_type": "stream",
     "text": [
      "[1, 4, 9, 16, 25, 36, 49, 64, 81, 100]\n"
     ]
    }
   ],
   "source": [
    "# Append all elements from more_squares to squares\n",
    "more_squares = [25, 36, 49, 64, 81, 100]\n",
    "updated_squares = squares + more_squares\n",
    "print(updated_squares)"
   ]
  },
  {
   "cell_type": "markdown",
   "metadata": {},
   "source": [
    "#### 5.9. List Methods"
   ]
  },
  {
   "cell_type": "code",
   "execution_count": 69,
   "metadata": {},
   "outputs": [
    {
     "name": "stdout",
     "output_type": "stream",
     "text": [
      "[1, 4, 9, 16, 25]\n",
      "[1, 4, 9, 16, 25, 36, 49, 64, 81, 100]\n",
      "[0, 1, 4, 9, 16, 25, 36, 49, 64, 81, 100]\n",
      "[1, 4, 9, 16, 25, 36, 49, 64, 81, 100]\n",
      "[1, 4, 9, 16, 25, 36, 49, 64, 81]\n",
      "[]\n"
     ]
    }
   ],
   "source": [
    "# list.append(element)\n",
    "squares.append(25)\n",
    "print(squares)\n",
    "\n",
    "# list.extend(newlist)\n",
    "del more_squares[0]\n",
    "squares.extend(more_squares)\n",
    "print(squares)\n",
    "\n",
    "# list.insert(index, element)\n",
    "squares.insert(0, 0)\n",
    "print(squares)\n",
    "\n",
    "# list.remove(element)\n",
    "squares.remove(0)\n",
    "print(squares)\n",
    "\n",
    "# list.pop([index])\n",
    "squares.pop()\n",
    "print(squares)\n",
    "\n",
    "# list.clear()\n",
    "squares.clear()\n",
    "print(squares)"
   ]
  },
  {
   "cell_type": "code",
   "execution_count": 70,
   "metadata": {},
   "outputs": [
    {
     "name": "stdout",
     "output_type": "stream",
     "text": [
      "7\n",
      "0\n",
      "[1, 4, 9, 16, 25, 36, 49, 64, 81, 100]\n",
      "[100, 81, 64, 49, 36, 25, 16, 9, 4, 1]\n",
      "[100, 81, 64, 49, 36, 25, 16, 9, 4, 1]\n"
     ]
    }
   ],
   "source": [
    "# Populate the list of square numbers again\n",
    "squares.extend([1, 4, 9, 16, 25, 36, 49, 64, 81, 100])\n",
    "\n",
    "# list.index(element[, start[, end]])\n",
    "print(squares.index(64))\n",
    "\n",
    "# list.count(element)\n",
    "print(squares.count(169))\n",
    "\n",
    "# list.sort()\n",
    "squares.sort()\n",
    "print(squares)\n",
    "\n",
    "# list.reverse()\n",
    "squares.reverse()\n",
    "print(squares)\n",
    "\n",
    "# list.copy()\n",
    "squares_copy = squares.copy()\n",
    "print(squares_copy)"
   ]
  },
  {
   "cell_type": "markdown",
   "metadata": {},
   "source": [
    "### 6. Basic Strings\n",
    "#### 6.1. Creating Strings"
   ]
  },
  {
   "cell_type": "code",
   "execution_count": 74,
   "metadata": {},
   "outputs": [
    {
     "name": "stdout",
     "output_type": "stream",
     "text": [
      "Jillur\n",
      "Jillur Quddus\n",
      "1600 Pennsylvania Ave NW\n",
      "Washington\n",
      "DC 20500\n",
      "United States\n"
     ]
    }
   ],
   "source": [
    "# Create a simple string\n",
    "first_name = 'Jillur'\n",
    "print(first_name)\n",
    "\n",
    "# Create a multiline string\n",
    "envelope_label = \"\"\"Jillur Quddus\n",
    "1600 Pennsylvania Ave NW\n",
    "Washington\n",
    "DC 20500\n",
    "United States\"\"\"\n",
    "print(envelope_label)"
   ]
  },
  {
   "cell_type": "markdown",
   "metadata": {},
   "source": [
    "#### 6.2. Index and Slicing"
   ]
  },
  {
   "cell_type": "code",
   "execution_count": 82,
   "metadata": {},
   "outputs": [
    {
     "name": "stdout",
     "output_type": "stream",
     "text": [
      "d\n",
      "consectetur adipiscing elit\n",
      "aliqua\n"
     ]
    }
   ],
   "source": [
    "# Create a simple string\n",
    "lorem_ipsum = \"Lorem ipsum dolor sit amet, consectetur adipiscing elit, sed do eiusmod tempor incididunt ut labore et dolore magna aliqua.\"\n",
    "\n",
    "# Print the 13th character\n",
    "print(lorem_ipsum[12])\n",
    "\n",
    "# Print the substring between the 29th and 56th characters\n",
    "print(lorem_ipsum[28:55])\n",
    "\n",
    "# Print the last word\n",
    "print(lorem_ipsum[-7:-1])"
   ]
  },
  {
   "cell_type": "markdown",
   "metadata": {},
   "source": [
    "#### 6.3. String Length"
   ]
  },
  {
   "cell_type": "code",
   "execution_count": 83,
   "metadata": {},
   "outputs": [
    {
     "name": "stdout",
     "output_type": "stream",
     "text": [
      "123\n"
     ]
    }
   ],
   "source": [
    "# Calculate the length of a string\n",
    "print(len(lorem_ipsum))"
   ]
  },
  {
   "cell_type": "markdown",
   "metadata": {},
   "source": [
    "#### 6.4. String Membership"
   ]
  },
  {
   "cell_type": "code",
   "execution_count": 84,
   "metadata": {},
   "outputs": [
    {
     "name": "stdout",
     "output_type": "stream",
     "text": [
      "The latin word for time has been found!\n"
     ]
    }
   ],
   "source": [
    "# Test whether a given sequence of characters can be found in a string\n",
    "if \"tempor\" in lorem_ipsum:\n",
    "    print(\"The latin word for time has been found!\")"
   ]
  },
  {
   "cell_type": "markdown",
   "metadata": {},
   "source": [
    "#### 6.5. Concatenating Strings"
   ]
  },
  {
   "cell_type": "code",
   "execution_count": 85,
   "metadata": {},
   "outputs": [
    {
     "name": "stdout",
     "output_type": "stream",
     "text": [
      "Lorem ipsum dolor sit amet, consectetur adipiscing elit, sed do eiusmod tempor incididunt ut labore et dolore magna aliqua. Ut enim ad minim veniam, quis nostrud exercitation ullamco laboris nisi ut aliquip ex ea commodo consequat.\n"
     ]
    }
   ],
   "source": [
    "# Concatenate one string to another string\n",
    "lorem_ipsum_continued = \"Ut enim ad minim veniam, quis nostrud exercitation ullamco laboris nisi ut aliquip ex ea commodo consequat.\"\n",
    "lorem_ipsum_updated = lorem_ipsum + \" \" + lorem_ipsum_continued\n",
    "print(lorem_ipsum_updated)"
   ]
  },
  {
   "cell_type": "markdown",
   "metadata": {},
   "source": [
    "#### 6.6. Escape Character"
   ]
  },
  {
   "cell_type": "code",
   "execution_count": 87,
   "metadata": {},
   "outputs": [
    {
     "ename": "SyntaxError",
     "evalue": "invalid syntax (<ipython-input-87-91727dda3ee7>, line 1)",
     "output_type": "error",
     "traceback": [
      "\u001b[1;36m  File \u001b[1;32m\"<ipython-input-87-91727dda3ee7>\"\u001b[1;36m, line \u001b[1;32m1\u001b[0m\n\u001b[1;33m    illegal_string = \"My name is \"Jillur\"\"\u001b[0m\n\u001b[1;37m                                       ^\u001b[0m\n\u001b[1;31mSyntaxError\u001b[0m\u001b[1;31m:\u001b[0m invalid syntax\n"
     ]
    }
   ],
   "source": [
    "# Try to create a string containing illegal characters\n",
    "illegal_string = \"My name is \"Jillur\"\""
   ]
  },
  {
   "cell_type": "code",
   "execution_count": 88,
   "metadata": {},
   "outputs": [
    {
     "name": "stdout",
     "output_type": "stream",
     "text": [
      "My name is \"Jillur\"\n"
     ]
    }
   ],
   "source": [
    "# Escape the illegal characters using the backslash character\n",
    "legal_string = \"My name is \\\"Jillur\\\"\"\n",
    "print(legal_string)"
   ]
  },
  {
   "cell_type": "markdown",
   "metadata": {},
   "source": [
    "#### 6.7. Raw and Unicode String Literals"
   ]
  },
  {
   "cell_type": "code",
   "execution_count": 94,
   "metadata": {},
   "outputs": [
    {
     "name": "stdout",
     "output_type": "stream",
     "text": [
      "My name is Jillur Quddus\\nI am a Chief Data Scientist and Principal Polyglot Software Engineer. Please find attached my résumé\n",
      "My name is Jillur Quddus\n",
      "I am a Chief Data Scientist and Principal Polyglot Software Engineer. Please find attached my résumé\n"
     ]
    }
   ],
   "source": [
    "# Create and print a raw string literal\n",
    "raw_string_literal = r\"My name is Jillur Quddus\\nI am a Chief Data Scientist and Principal Polyglot Software Engineer. Please find attached my résumé\"\n",
    "print(raw_string_literal)\n",
    "\n",
    "# Create and print a unicode string literal\n",
    "unicode_string_literal = u\"My name is Jillur Quddus\\nI am a Chief Data Scientist and Principal Polyglot Software Engineer. Please find attached my résumé\"\n",
    "print(unicode_string_literal)"
   ]
  },
  {
   "cell_type": "markdown",
   "metadata": {},
   "source": [
    "#### 6.8. Comparing Strings"
   ]
  },
  {
   "cell_type": "code",
   "execution_count": 110,
   "metadata": {},
   "outputs": [
    {
     "name": "stdout",
     "output_type": "stream",
     "text": [
      "Both individuals share the same first name when uppercased\n"
     ]
    }
   ],
   "source": [
    "# Compare two strings\n",
    "individual1_first_name = \"Jillur\"\n",
    "individual2_first_name = \"jillur\"\n",
    "if individual1_first_name == individual2_first_name:\n",
    "    print(\"Both individuals share the same first name\")\n",
    "elif individual1_first_name.upper() == individual2_first_name.upper():\n",
    "    print(\"Both individuals share the same first name when uppercased\")\n",
    "else:\n",
    "    print(\"No name match found\")"
   ]
  },
  {
   "cell_type": "markdown",
   "metadata": {},
   "source": [
    "#### 6.9. String Methods"
   ]
  },
  {
   "cell_type": "code",
   "execution_count": 108,
   "metadata": {},
   "outputs": [
    {
     "name": "stdout",
     "output_type": "stream",
     "text": [
      "    Hello! My name is Jillur Quddus and I am a Chief Data Scientist and Principal Polyglot Software Engineer.    \n",
      "    hello! my name is jillur quddus and i am a chief data scientist and principal polyglot software engineer.    \n",
      "    HELLO! MY NAME IS JILLUR QUDDUS AND I AM A CHIEF DATA SCIENTIST AND PRINCIPAL POLYGLOT SOFTWARE ENGINEER.    \n",
      "Hello! My name is Jillur Quddus and I am a Chief Data Scientist and Principal Polyglot Software Engineer.\n",
      "Hello! My name is J Q and I am a Chief Data Scientist and Principal Polyglot Software Engineer.\n",
      "39\n",
      "True\n",
      "False\n",
      "['Hello', ' My name is J Q and I am a Chief Data Scientist and Principal Polyglot Software Engineer.']\n",
      "Chief Data Scientist|Principal Polyglot Software Engineer|Technical Architect\n"
     ]
    }
   ],
   "source": [
    "# Create a new string literal\n",
    "my_string = \"    Hello! My name is Jillur Quddus and I am a Chief Data Scientist and Principal Polyglot Software Engineer.    \"\n",
    "print(my_string)\n",
    "\n",
    "# str.lower()\n",
    "print(my_string.lower())\n",
    "\n",
    "# str.upper()\n",
    "print(my_string.upper())\n",
    "\n",
    "# str.strip()\n",
    "stripped_string = my_string.strip()\n",
    "print(stripped_string)\n",
    "\n",
    "# str.replace('find', 'replacewith')\n",
    "initialized_string = stripped_string.replace('Jillur', 'J').replace('Quddus', 'Q')\n",
    "print(initialized_string)\n",
    "\n",
    "# str.find('substring')\n",
    "print(initialized_string.find('Data Scientist'))\n",
    "\n",
    "# str.startswith('substring')\n",
    "print(initialized_string.startswith('Hello!'))\n",
    "\n",
    "# str.endswith('substring')\n",
    "print(initialized_string.endswith(\"Good Bye!\"))\n",
    "\n",
    "# str.split('delimiter')\n",
    "print(initialized_string.split('!'))\n",
    "\n",
    "# delimiter.join([list])\n",
    "print('|'.join(['Chief Data Scientist', 'Principal Polyglot Software Engineer', 'Technical Architect']))"
   ]
  },
  {
   "cell_type": "markdown",
   "metadata": {},
   "source": [
    "### 7. Loops\n",
    "#### 7.1. While Loop"
   ]
  },
  {
   "cell_type": "code",
   "execution_count": 14,
   "metadata": {},
   "outputs": [
    {
     "name": "stdout",
     "output_type": "stream",
     "text": [
      "Please enter a positive integer value: 7\n",
      "The factorial of 7 is 5040\n"
     ]
    }
   ],
   "source": [
    "# Calculate the factorial of a given positive integer using a while loop\n",
    "n = int(input('Please enter a positive integer value: '))\n",
    "if n < 1:\n",
    "    print('Please enter a positive integer value.')\n",
    "else:\n",
    "    factorial = 1\n",
    "    counter = 1\n",
    "    while counter <= n:\n",
    "        factorial *= counter\n",
    "        counter += 1\n",
    "    print(f'The factorial of {n} is {factorial}')"
   ]
  },
  {
   "cell_type": "markdown",
   "metadata": {},
   "source": [
    "#### 7.2. While-else"
   ]
  },
  {
   "cell_type": "code",
   "execution_count": 16,
   "metadata": {},
   "outputs": [
    {
     "name": "stdout",
     "output_type": "stream",
     "text": [
      "The sum of first 10 positive integer values is 55\n"
     ]
    }
   ],
   "source": [
    "# Calculate the sum of the first 10 positive integer values using a while loop with else\n",
    "counter = 1\n",
    "sum = 0\n",
    "while (counter <= 10):\n",
    "     sum += counter\n",
    "     counter += 1\n",
    "else :\n",
    "     print(f'The sum of first 10 positive integer values is {sum}')"
   ]
  },
  {
   "cell_type": "markdown",
   "metadata": {},
   "source": [
    "#### 7.3. For Loop"
   ]
  },
  {
   "cell_type": "code",
   "execution_count": 17,
   "metadata": {},
   "outputs": [
    {
     "name": "stdout",
     "output_type": "stream",
     "text": [
      "Apples: 6\n",
      "Bananas: 7\n",
      "Potatoes: 8\n",
      "Tomatoes: 8\n",
      "Milk: 4\n",
      "Cheese: 6\n",
      "Bread: 5\n",
      "Eggs: 4\n",
      "Butter: 6\n"
     ]
    }
   ],
   "source": [
    "# Iterate over a list of strings and print each element and its string length\n",
    "shopping_list = ['Apples', 'Bananas', 'Potatoes', 'Tomatoes', 'Milk', 'Cheese', 'Bread', 'Eggs', 'Butter']\n",
    "for shopping_item in shopping_list:\n",
    "    print(f'{shopping_item}: {len(shopping_item)}')"
   ]
  },
  {
   "cell_type": "markdown",
   "metadata": {},
   "source": [
    "#### 7.4. Range Function"
   ]
  },
  {
   "cell_type": "code",
   "execution_count": 21,
   "metadata": {},
   "outputs": [
    {
     "name": "stdout",
     "output_type": "stream",
     "text": [
      "0\n",
      "1\n",
      "2\n",
      "3\n",
      "4\n",
      "5\n",
      "6\n",
      "7\n",
      "8\n",
      "9\n"
     ]
    }
   ],
   "source": [
    "# Range function with a single argument\n",
    "for n in range(10):\n",
    "    print(n)"
   ]
  },
  {
   "cell_type": "code",
   "execution_count": 22,
   "metadata": {},
   "outputs": [
    {
     "name": "stdout",
     "output_type": "stream",
     "text": [
      "10\n",
      "11\n",
      "12\n",
      "13\n",
      "14\n",
      "15\n",
      "16\n",
      "17\n",
      "18\n",
      "19\n"
     ]
    }
   ],
   "source": [
    "# Range function with two arguments\n",
    "for n in range(10, 20):\n",
    "    print(n)"
   ]
  },
  {
   "cell_type": "code",
   "execution_count": 23,
   "metadata": {},
   "outputs": [
    {
     "name": "stdout",
     "output_type": "stream",
     "text": [
      "10\n",
      "12\n",
      "14\n",
      "16\n",
      "18\n"
     ]
    }
   ],
   "source": [
    "# Range function with three arguments\n",
    "for n in range(10, 20, 2):\n",
    "    print(n)"
   ]
  },
  {
   "cell_type": "markdown",
   "metadata": {},
   "source": [
    "#### 7.5. For-else Loop"
   ]
  },
  {
   "cell_type": "code",
   "execution_count": 25,
   "metadata": {},
   "outputs": [
    {
     "name": "stdout",
     "output_type": "stream",
     "text": [
      "Please enter your password: d\n",
      "Please enter your password: Passw0rd123!\n",
      "Successful authentication\n"
     ]
    }
   ],
   "source": [
    "# Attempt to enter a password three times using a for loop with the range function and else statement\n",
    "for n in range(3):\n",
    "    password_attempt = input('Please enter your password: ')\n",
    "    if password_attempt == 'Passw0rd123!':\n",
    "        print('Successful authentication')\n",
    "        break\n",
    "else:\n",
    "    print('Your account has been locked after 3 failed attempts to login.')\n",
    "    print('Please contact your system administrator to unlock your account.')"
   ]
  },
  {
   "cell_type": "markdown",
   "metadata": {},
   "source": [
    "#### 7.6. Break Statement"
   ]
  },
  {
   "cell_type": "code",
   "execution_count": 5,
   "metadata": {},
   "outputs": [
    {
     "name": "stdout",
     "output_type": "stream",
     "text": [
      "******** Guess the Number! ********\n",
      "I am thinking of a number between 1 and 30. Can you guess it in less than 5 attempts?\n",
      "Attempt #1 Enter your guess: 1\n",
      "Too low!\n",
      "Attempt #2 Enter your guess: 2\n",
      "Too low!\n",
      "Attempt #3 Enter your guess: 10\n",
      "Too low!\n",
      "Attempt #4 Enter your guess: 20\n",
      "Too high!\n",
      "Attempt #5 Enter your guess: 13\n",
      "Too low!\n",
      "Sorry! Game Over! The number I was thinking of was 14.\n"
     ]
    }
   ],
   "source": [
    "# Guess the number game demonstrating the break statement in a while loop\n",
    "import random\n",
    "random_number = random.randint(1, 30)\n",
    "guess_counter = 0\n",
    "guess_limit = 5\n",
    "print('******** Guess the Number! ********')\n",
    "print(f'I am thinking of a number between 1 and 30. Can you guess it in less than {guess_limit} attempts?')\n",
    "while guess_counter < guess_limit:\n",
    "    guess = int(input(f'Attempt #{guess_counter + 1} Enter your guess: '))\n",
    "    guess_counter += 1\n",
    "    if guess < random_number:\n",
    "        print('Too low!')\n",
    "    elif guess > random_number:\n",
    "        print('Too high!')\n",
    "    else:\n",
    "        break\n",
    "\n",
    "if guess == random_number:\n",
    "    print(f'Congratulations! You guessed correctly in {guess_counter} attempts!')\n",
    "else:\n",
    "    print(f'Sorry! Game Over! The number I was thinking of was {random_number}.')"
   ]
  },
  {
   "cell_type": "markdown",
   "metadata": {},
   "source": [
    "#### 7.7. Continue Statement"
   ]
  },
  {
   "cell_type": "code",
   "execution_count": 11,
   "metadata": {},
   "outputs": [
    {
     "name": "stdout",
     "output_type": "stream",
     "text": [
      "Apples\n",
      "Bananas\n",
      "Potatoes\n",
      "Tomatoes\n",
      "Bread\n"
     ]
    }
   ],
   "source": [
    "# Print only non-dairy products from a shopping list using a for loop and continue statement\n",
    "shopping_list = ['Apples', 'Bananas', 'Potatoes', 'Tomatoes', 'Milk', 'Cheese', 'Bread', 'Eggs', 'Butter']\n",
    "dairy_products = ['Milk', 'Cheese', 'Eggs', 'Butter']\n",
    "for shopping_item in shopping_list:\n",
    "    if shopping_item in dairy_products:\n",
    "        continue\n",
    "    print(shopping_item)"
   ]
  },
  {
   "cell_type": "code",
   "execution_count": 14,
   "metadata": {},
   "outputs": [
    {
     "name": "stdout",
     "output_type": "stream",
     "text": [
      "1\n",
      "3\n",
      "5\n",
      "7\n",
      "9\n"
     ]
    }
   ],
   "source": [
    "# Print only the odd numbers in a given range using a while loop and continue statement\n",
    "n = 0\n",
    "while n < 10:\n",
    "    n += 1\n",
    "    if n % 2 == 0:\n",
    "        continue\n",
    "    print(n)"
   ]
  },
  {
   "cell_type": "markdown",
   "metadata": {},
   "source": [
    "#### 7.8. Nested Loops"
   ]
  },
  {
   "cell_type": "code",
   "execution_count": 21,
   "metadata": {},
   "outputs": [
    {
     "name": "stdout",
     "output_type": "stream",
     "text": [
      "* * * * * \n",
      "* * * * * \n",
      "* * * * * \n",
      "* * * * * \n",
      "* * * * * \n"
     ]
    }
   ],
   "source": [
    "# Render a rectangle of given dimensions using nested for loops\n",
    "number_columns = 5\n",
    "number_rows = 5\n",
    "fill_character = '*'\n",
    "for row in range(number_rows):\n",
    "    print(fill_character, end=' ')\n",
    "    for column in range(number_columns - 1):\n",
    "        row *= column\n",
    "        print(fill_character, end=' ')\n",
    "    print('')"
   ]
  }
 ],
 "metadata": {
  "kernelspec": {
   "display_name": "Python 3",
   "language": "python",
   "name": "python3"
  },
  "language_info": {
   "codemirror_mode": {
    "name": "ipython",
    "version": 3
   },
   "file_extension": ".py",
   "mimetype": "text/x-python",
   "name": "python",
   "nbconvert_exporter": "python",
   "pygments_lexer": "ipython3",
   "version": "3.8.3"
  }
 },
 "nbformat": 4,
 "nbformat_minor": 2
}
