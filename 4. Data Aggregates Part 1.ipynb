{
 "cells": [
  {
   "cell_type": "markdown",
   "metadata": {},
   "source": [
    "# Hyperlearning AI - Introduction to Python\n",
    "An introductory course to the Python 3 programming language, with a curriculum aligned to the Certified Associate in Python Programming (PCAP) examination syllabus.<br/>\n",
    "https://hyperlearning.ai/knowledgebase/courses/introduction-python\n",
    "\n",
    "\n",
    "## 4. Data Aggregates Part 1\n",
    "https://hyperlearning.ai/knowledgebase/courses/introduction-python/modules/4/data-aggregates-part-1\n",
    "\n",
    "In this module we will cover advanced operations with strings and lists, namely:\n",
    "\n",
    "* **Advanced Strings** - immutability, encodings, escape sequences, string comparisons, multi-line strings, slicing, copying, cloning, and other common string methods and functions\n",
    "* **Advanced Lists** - indexing, slicing, iterating, list comprehension, copying, cloning and other common list methods and functions"
   ]
  },
  {
   "cell_type": "markdown",
   "metadata": {},
   "source": [
    "### Advanced Strings\n",
    "#### Character Encodings"
   ]
  },
  {
   "cell_type": "code",
   "execution_count": 3,
   "metadata": {},
   "outputs": [
    {
     "name": "stdout",
     "output_type": "stream",
     "text": [
      "The name for Hospital in French is: hôpital\n",
      "The name for Hospital in Japanese is: 病院\n",
      "The name for Hospital in Arabic is: مستشفى\n"
     ]
    }
   ],
   "source": [
    "# Include a Unicode character in a Python 3 string literal\n",
    "hospital_in_french = 'hôpital'\n",
    "hospital_in_japanese = '病院'\n",
    "hospital_in_arabic = 'مستشفى'\n",
    "print(f'The name for Hospital in French is: {hospital_in_french}')\n",
    "print(f'The name for Hospital in Japanese is: {hospital_in_japanese}')\n",
    "print(f'The name for Hospital in Arabic is: {hospital_in_arabic}')"
   ]
  },
  {
   "cell_type": "code",
   "execution_count": 5,
   "metadata": {},
   "outputs": [
    {
     "name": "stdout",
     "output_type": "stream",
     "text": [
      "The population of Japan is: 126500000\n"
     ]
    }
   ],
   "source": [
    "# Include a Unicode character in a Python 3 identifier\n",
    "日本の人口 = 126_500_000\n",
    "print(f'The population of Japan is: {日本の人口}')"
   ]
  },
  {
   "cell_type": "code",
   "execution_count": 6,
   "metadata": {},
   "outputs": [
    {
     "name": "stdout",
     "output_type": "stream",
     "text": [
      "b'The name of the hospital is Charit\\\\xe9 - Universit\\\\xe4tsmedizin Berlin'\n",
      "b'The name of the hospital is Charit - Universittsmedizin Berlin'\n",
      "b'The name of the hospital is Charit\\\\N{LATIN SMALL LETTER E WITH ACUTE} - Universit\\\\N{LATIN SMALL LETTER A WITH DIAERESIS}tsmedizin Berlin'\n",
      "b'The name of the hospital is Charit? - Universit?tsmedizin Berlin'\n",
      "b'The name of the hospital is Charit&#233; - Universit&#228;tsmedizin Berlin'\n"
     ]
    }
   ],
   "source": [
    "# Usage of the encode() string method\n",
    "directions = 'The name of the hospital is Charité - Universitätsmedizin Berlin'\n",
    "print(directions.encode(encoding=\"ascii\", errors=\"backslashreplace\"))\n",
    "print(directions.encode(encoding=\"ascii\", errors=\"ignore\"))\n",
    "print(directions.encode(encoding=\"ascii\", errors=\"namereplace\"))\n",
    "print(directions.encode(encoding=\"ascii\", errors=\"replace\"))\n",
    "print(directions.encode(encoding=\"ascii\", errors=\"xmlcharrefreplace\"))"
   ]
  },
  {
   "cell_type": "code",
   "execution_count": 39,
   "metadata": {},
   "outputs": [
    {
     "name": "stdout",
     "output_type": "stream",
     "text": [
      "['Quddus', 'G\\xf6\\xdfmann', 'Jos\\xe9\\u611b']\n"
     ]
    }
   ],
   "source": [
    "# Usage of the ascii() function\n",
    "names = ['Quddus', 'Gößmann', 'José']\n",
    "print(ascii(names))"
   ]
  },
  {
   "cell_type": "code",
   "execution_count": 38,
   "metadata": {},
   "outputs": [
    {
     "name": "stdout",
     "output_type": "stream",
     "text": [
      "The Unicode code point value for 愛 is 24859\n"
     ]
    }
   ],
   "source": [
    "# Usage of the ord() function\n",
    "dragon = \"竜\"\n",
    "print(f'The Unicode code point value for {dragon} is {ord(dragon)}')"
   ]
  },
  {
   "cell_type": "code",
   "execution_count": 41,
   "metadata": {},
   "outputs": [
    {
     "name": "stdout",
     "output_type": "stream",
     "text": [
      "Escaping a ' single quote character\n",
      "Escaping a \" double quote character\n",
      "Escaping a \\ backslash character\n",
      "Escaping a newline character\n",
      "Escaping an \u0007 ASCII bell character\n",
      "Escaping an \b ASCII backspace character\n",
      "Escaping an \f",
      " ASCII formfeed character\n",
      "Escaping an \n",
      " ASCII linefeed character\n",
      "Escaping an \r",
      " ASCII carriage return character\n",
      "Escaping an \t ASCII horizontal tab character\n",
      "Escaping an \u000b",
      " ASCII vertical tab character\n",
      "Escaping the ö German umlaut o character\n",
      "Escaping the 🐁 Unicode mouse character\n",
      "Escaping the ✈ Unicode airplane character\n"
     ]
    }
   ],
   "source": [
    "# Usage of escape characters\n",
    "print('Escaping a \\' single quote character')\n",
    "print(\"Escaping a \\\" double quote character\")\n",
    "print('Escaping a \\\\ backslash character')\n",
    "print('Escaping a \\\n",
    "newline character')\n",
    "print('Escaping an \\a ASCII bell character')\n",
    "print('Escaping an \\b ASCII backspace character')\n",
    "print('Escaping an \\f ASCII formfeed character')\n",
    "print('Escaping an \\n ASCII linefeed character')\n",
    "print('Escaping an \\r ASCII carriage return character')\n",
    "print('Escaping an \\t ASCII horizontal tab character')\n",
    "print('Escaping an \\v ASCII vertical tab character')\n",
    "\n",
    "# Usage of escape sequences\n",
    "print('Escaping the \\xf6 German umlaut o character')\n",
    "print('Escaping the \\N{MOUSE} Unicode mouse character')\n",
    "print('Escaping the \\u2708 Unicode airplane character')"
   ]
  },
  {
   "cell_type": "code",
   "execution_count": null,
   "metadata": {},
   "outputs": [],
   "source": []
  }
 ],
 "metadata": {
  "kernelspec": {
   "display_name": "Python 3",
   "language": "python",
   "name": "python3"
  },
  "language_info": {
   "codemirror_mode": {
    "name": "ipython",
    "version": 3
   },
   "file_extension": ".py",
   "mimetype": "text/x-python",
   "name": "python",
   "nbconvert_exporter": "python",
   "pygments_lexer": "ipython3",
   "version": "3.8.3"
  }
 },
 "nbformat": 4,
 "nbformat_minor": 4
}
