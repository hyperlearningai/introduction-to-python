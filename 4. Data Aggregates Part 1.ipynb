{
 "cells": [
  {
   "cell_type": "markdown",
   "metadata": {},
   "source": [
    "# Hyperlearning AI - Introduction to Python\n",
    "An introductory course to the Python 3 programming language, with a curriculum aligned to the Certified Associate in Python Programming (PCAP) examination syllabus.<br/>\n",
    "https://hyperlearning.ai/knowledgebase/courses/introduction-python\n",
    "\n",
    "\n",
    "## 4. Data Aggregates Part 1\n",
    "https://hyperlearning.ai/knowledgebase/courses/introduction-python/modules/4/data-aggregates-part-1\n",
    "\n",
    "In this module we will cover advanced operations with strings and lists, namely:\n",
    "\n",
    "* **Advanced Strings** - immutability, encodings, escape sequences, string comparisons, multi-line strings, slicing, copying, cloning, and other common string methods and functions\n",
    "* **Advanced Lists** - indexing, slicing, iterating, list comprehension, copying, cloning, and other common list methods and functions"
   ]
  },
  {
   "cell_type": "markdown",
   "metadata": {},
   "source": [
    "### Advanced Strings\n",
    "#### Character Encodings"
   ]
  },
  {
   "cell_type": "code",
   "execution_count": 3,
   "metadata": {},
   "outputs": [
    {
     "name": "stdout",
     "output_type": "stream",
     "text": [
      "The name for Hospital in French is: hôpital\n",
      "The name for Hospital in Japanese is: 病院\n",
      "The name for Hospital in Arabic is: مستشفى\n"
     ]
    }
   ],
   "source": [
    "# Include a Unicode character in a Python 3 string literal\n",
    "hospital_in_french = 'hôpital'\n",
    "hospital_in_japanese = '病院'\n",
    "hospital_in_arabic = 'مستشفى'\n",
    "print(f'The name for Hospital in French is: {hospital_in_french}')\n",
    "print(f'The name for Hospital in Japanese is: {hospital_in_japanese}')\n",
    "print(f'The name for Hospital in Arabic is: {hospital_in_arabic}')"
   ]
  },
  {
   "cell_type": "code",
   "execution_count": 5,
   "metadata": {},
   "outputs": [
    {
     "name": "stdout",
     "output_type": "stream",
     "text": [
      "The population of Japan is: 126500000\n"
     ]
    }
   ],
   "source": [
    "# Include a Unicode character in a Python 3 identifier\n",
    "日本の人口 = 126_500_000\n",
    "print(f'The population of Japan is: {日本の人口}')"
   ]
  },
  {
   "cell_type": "code",
   "execution_count": 6,
   "metadata": {},
   "outputs": [
    {
     "name": "stdout",
     "output_type": "stream",
     "text": [
      "b'The name of the hospital is Charit\\\\xe9 - Universit\\\\xe4tsmedizin Berlin'\n",
      "b'The name of the hospital is Charit - Universittsmedizin Berlin'\n",
      "b'The name of the hospital is Charit\\\\N{LATIN SMALL LETTER E WITH ACUTE} - Universit\\\\N{LATIN SMALL LETTER A WITH DIAERESIS}tsmedizin Berlin'\n",
      "b'The name of the hospital is Charit? - Universit?tsmedizin Berlin'\n",
      "b'The name of the hospital is Charit&#233; - Universit&#228;tsmedizin Berlin'\n"
     ]
    }
   ],
   "source": [
    "# Usage of the encode() string method\n",
    "directions = 'The name of the hospital is Charité - Universitätsmedizin Berlin'\n",
    "print(directions.encode(encoding=\"ascii\", errors=\"backslashreplace\"))\n",
    "print(directions.encode(encoding=\"ascii\", errors=\"ignore\"))\n",
    "print(directions.encode(encoding=\"ascii\", errors=\"namereplace\"))\n",
    "print(directions.encode(encoding=\"ascii\", errors=\"replace\"))\n",
    "print(directions.encode(encoding=\"ascii\", errors=\"xmlcharrefreplace\"))"
   ]
  },
  {
   "cell_type": "code",
   "execution_count": 39,
   "metadata": {},
   "outputs": [
    {
     "name": "stdout",
     "output_type": "stream",
     "text": [
      "['Quddus', 'G\\xf6\\xdfmann', 'Jos\\xe9\\u611b']\n"
     ]
    }
   ],
   "source": [
    "# Usage of the ascii() function\n",
    "names = ['Quddus', 'Gößmann', 'José']\n",
    "print(ascii(names))"
   ]
  },
  {
   "cell_type": "code",
   "execution_count": 38,
   "metadata": {},
   "outputs": [
    {
     "name": "stdout",
     "output_type": "stream",
     "text": [
      "The Unicode code point value for 愛 is 24859\n"
     ]
    }
   ],
   "source": [
    "# Usage of the ord() function\n",
    "dragon = \"竜\"\n",
    "print(f'The Unicode code point value for {dragon} is {ord(dragon)}')"
   ]
  },
  {
   "cell_type": "markdown",
   "metadata": {},
   "source": [
    "#### Escape Sequences"
   ]
  },
  {
   "cell_type": "code",
   "execution_count": 41,
   "metadata": {},
   "outputs": [
    {
     "name": "stdout",
     "output_type": "stream",
     "text": [
      "Escaping a ' single quote character\n",
      "Escaping a \" double quote character\n",
      "Escaping a \\ backslash character\n",
      "Escaping a newline character\n",
      "Escaping an \u0007 ASCII bell character\n",
      "Escaping an \b ASCII backspace character\n",
      "Escaping an \f",
      " ASCII formfeed character\n",
      "Escaping an \n",
      " ASCII linefeed character\n",
      "Escaping an \r",
      " ASCII carriage return character\n",
      "Escaping an \t ASCII horizontal tab character\n",
      "Escaping an \u000b",
      " ASCII vertical tab character\n",
      "Escaping the ö German umlaut o character\n",
      "Escaping the 🐁 Unicode mouse character\n",
      "Escaping the ✈ Unicode airplane character\n"
     ]
    }
   ],
   "source": [
    "# Usage of escape characters\n",
    "print('Escaping a \\' single quote character')\n",
    "print(\"Escaping a \\\" double quote character\")\n",
    "print('Escaping a \\\\ backslash character')\n",
    "print('Escaping a \\\n",
    "newline character')\n",
    "print('Escaping an \\a ASCII bell character')\n",
    "print('Escaping an \\b ASCII backspace character')\n",
    "print('Escaping an \\f ASCII formfeed character')\n",
    "print('Escaping an \\n ASCII linefeed character')\n",
    "print('Escaping an \\r ASCII carriage return character')\n",
    "print('Escaping an \\t ASCII horizontal tab character')\n",
    "print('Escaping an \\v ASCII vertical tab character')\n",
    "\n",
    "# Usage of escape sequences\n",
    "print('Escaping the \\xf6 German umlaut o character')\n",
    "print('Escaping the \\N{MOUSE} Unicode mouse character')\n",
    "print('Escaping the \\u2708 Unicode airplane character')"
   ]
  },
  {
   "cell_type": "markdown",
   "metadata": {},
   "source": [
    "#### Immutable Strings"
   ]
  },
  {
   "cell_type": "code",
   "execution_count": 43,
   "metadata": {},
   "outputs": [
    {
     "name": "stdout",
     "output_type": "stream",
     "text": [
      "W\n"
     ]
    },
    {
     "ename": "TypeError",
     "evalue": "'str' object does not support item assignment",
     "output_type": "error",
     "traceback": [
      "\u001b[0;31m---------------------------------------------------------------------------\u001b[0m",
      "\u001b[0;31mTypeError\u001b[0m                                 Traceback (most recent call last)",
      "\u001b[0;32m<ipython-input-43-e6985690a63c>\u001b[0m in \u001b[0;36m<module>\u001b[0;34m\u001b[0m\n\u001b[1;32m      2\u001b[0m \u001b[0mtest_string\u001b[0m \u001b[0;34m=\u001b[0m \u001b[0;34m'Hello World'\u001b[0m\u001b[0;34m\u001b[0m\u001b[0;34m\u001b[0m\u001b[0m\n\u001b[1;32m      3\u001b[0m \u001b[0mprint\u001b[0m\u001b[0;34m(\u001b[0m\u001b[0mtest_string\u001b[0m\u001b[0;34m[\u001b[0m\u001b[0;36m6\u001b[0m\u001b[0;34m]\u001b[0m\u001b[0;34m)\u001b[0m\u001b[0;34m\u001b[0m\u001b[0;34m\u001b[0m\u001b[0m\n\u001b[0;32m----> 4\u001b[0;31m \u001b[0mtest_string\u001b[0m\u001b[0;34m[\u001b[0m\u001b[0;36m6\u001b[0m\u001b[0;34m]\u001b[0m \u001b[0;34m=\u001b[0m \u001b[0;34m\"Q\"\u001b[0m\u001b[0;34m\u001b[0m\u001b[0;34m\u001b[0m\u001b[0m\n\u001b[0m",
      "\u001b[0;31mTypeError\u001b[0m: 'str' object does not support item assignment"
     ]
    }
   ],
   "source": [
    "# Try to change a character in a string\n",
    "test_string = 'Hello World'\n",
    "print(test_string[6])\n",
    "test_string[6] = \"Q\""
   ]
  },
  {
   "cell_type": "code",
   "execution_count": 78,
   "metadata": {},
   "outputs": [
    {
     "name": "stdout",
     "output_type": "stream",
     "text": [
      "id(my_first_string) = 140669325644208\n",
      "id(my_second_string) = 140669325644208\n",
      "a = 140669646981680\n",
      "b = 140669647076336\n",
      "r = 140669647801520\n",
      "a = 140669646981680\n",
      "c = 140669647497712\n",
      "a = 140669646981680\n",
      "d = 140669647497456\n",
      "a = 140669646981680\n",
      "b = 140669647076336\n",
      "r = 140669647801520\n",
      "a = 140669646981680\n"
     ]
    }
   ],
   "source": [
    "# Apply the id() function to strings\n",
    "my_first_string = 'abracadabra'\n",
    "my_second_string = 'abracadabra'\n",
    "print(f'id(my_first_string) = {id(my_first_string)}')\n",
    "print(f'id(my_second_string) = {id(my_second_string)}')\n",
    "\n",
    "# Apply the id() function to each character in a string\n",
    "for idx in range(0, len(my_first_string)):\n",
    "    print(f'{my_first_string[idx]} = {id(my_first_string[idx])}')"
   ]
  },
  {
   "cell_type": "code",
   "execution_count": 59,
   "metadata": {},
   "outputs": [
    {
     "name": "stdout",
     "output_type": "stream",
     "text": [
      "I am a Data Scientist\n",
      "I am a Software Engineer\n"
     ]
    }
   ],
   "source": [
    "# Strings are immutable, but variables can be changed to point to different things\n",
    "my_string = 'I am a Data Scientist'\n",
    "print(my_string)\n",
    "my_string = 'I am a Software Engineer'\n",
    "print(my_string)"
   ]
  },
  {
   "cell_type": "markdown",
   "metadata": {},
   "source": [
    "#### Multi-Line Strings"
   ]
  },
  {
   "cell_type": "code",
   "execution_count": 67,
   "metadata": {},
   "outputs": [
    {
     "name": "stdout",
     "output_type": "stream",
     "text": [
      "Line 1\tEOL \n",
      "Line 2\t\tEOL\n",
      "Line 3    EOL\n"
     ]
    }
   ],
   "source": [
    "my_multiline_string = '''Line 1\\tEOL \n",
    "Line 2\\t\\tEOL\n",
    "Line 3    EOL'''\n",
    "print(my_multiline_string)"
   ]
  },
  {
   "cell_type": "markdown",
   "metadata": {},
   "source": [
    "#### Copying and Cloning Strings"
   ]
  },
  {
   "cell_type": "code",
   "execution_count": 88,
   "metadata": {},
   "outputs": [
    {
     "name": "stdout",
     "output_type": "stream",
     "text": [
      "id(my_first_string) = 140669325669872\n",
      "id(my_second_string) = 140669325669872\n"
     ]
    }
   ],
   "source": [
    "# Create two variables to point to the same string\n",
    "my_first_string = 'abracadabra'\n",
    "my_second_string = 'abracadabra'\n",
    "print(f'id(my_first_string) = {id(my_first_string)}')\n",
    "print(f'id(my_second_string) = {id(my_second_string)}')"
   ]
  },
  {
   "cell_type": "markdown",
   "metadata": {},
   "source": [
    "#### String Comparisons"
   ]
  },
  {
   "cell_type": "code",
   "execution_count": 94,
   "metadata": {},
   "outputs": [
    {
     "name": "stdout",
     "output_type": "stream",
     "text": [
      "ö has length 1\n",
      "ö has length 2\n"
     ]
    }
   ],
   "source": [
    "# Represent the German umlaut using two different code point sequences\n",
    "umlaut_sequence_1 = '\\u00F6'\n",
    "umlaut_sequence_2 = '\\u006F\\u0308'\n",
    "print(f'{umlaut_sequence_1} has length {len(umlaut_sequence_1)}')\n",
    "print(f'{umlaut_sequence_2} has length {len(umlaut_sequence_2)}')"
   ]
  },
  {
   "cell_type": "code",
   "execution_count": 96,
   "metadata": {},
   "outputs": [
    {
     "name": "stdout",
     "output_type": "stream",
     "text": [
      "False\n",
      "True\n"
     ]
    }
   ],
   "source": [
    "# Compare strings that contain different code point sequences\n",
    "import unicodedata\n",
    "print(umlaut_sequence_1 == umlaut_sequence_2)\n",
    "print(unicodedata.normalize('NFD', umlaut_sequence_1) == unicodedata.normalize('NFD', umlaut_sequence_2))"
   ]
  },
  {
   "cell_type": "markdown",
   "metadata": {},
   "source": [
    "#### Advanced String Slicing"
   ]
  },
  {
   "cell_type": "code",
   "execution_count": 105,
   "metadata": {},
   "outputs": [
    {
     "name": "stdout",
     "output_type": "stream",
     "text": [
      "arcdba\n",
      "abdcra\n",
      "cdb\n",
      "cdba\n"
     ]
    }
   ],
   "source": [
    "# Create a string\n",
    "my_string = 'abracadabra'\n",
    "\n",
    "# Extract characters of a string that have even indexes using the stride size argument\n",
    "print(my_string[::2])\n",
    "\n",
    "# Use a negative stride size argument to extract in reverse order\n",
    "print(my_string[::-2])\n",
    "\n",
    "# Extract a defined subset of characters with a stride size of 2 within that subset\n",
    "print(my_string[4:10:2])\n",
    "\n",
    "# Extract characters with even indexes starting from the 5th character\n",
    "print(my_string[4::2])"
   ]
  },
  {
   "cell_type": "markdown",
   "metadata": {},
   "source": [
    "#### Common String Methods"
   ]
  },
  {
   "cell_type": "code",
   "execution_count": 120,
   "metadata": {},
   "outputs": [
    {
     "name": "stdout",
     "output_type": "stream",
     "text": [
      "True\n",
      "False\n",
      "False\n",
      "False\n",
      "True\n",
      "True\n",
      "True\n",
      "Capitalize me\n"
     ]
    }
   ],
   "source": [
    "# isupper()\n",
    "print('MY NAME IS JILLUR'.isupper())\n",
    "\n",
    "# islower()\n",
    "print('my name is jillur Q'.islower())\n",
    "\n",
    "# isalpha()\n",
    "print('learning python'.isalpha())\n",
    "\n",
    "# isalnum()\n",
    "print('learning python 3'.isalnum())\n",
    "\n",
    "# isdecimal()\n",
    "print('01092020'.isdecimal())\n",
    "\n",
    "# isspace()\n",
    "print(' \\t\\n\\t\\v  '.isspace())\n",
    "\n",
    "# istitle()\n",
    "print('Jillur Quddus'.istitle())\n",
    "\n",
    "# capitalize()\n",
    "print('capitalize me'.capitalize())"
   ]
  },
  {
   "cell_type": "markdown",
   "metadata": {},
   "source": [
    "#### Common String Functions"
   ]
  },
  {
   "cell_type": "code",
   "execution_count": 124,
   "metadata": {
    "scrolled": true
   },
   "outputs": [
    {
     "name": "stdout",
     "output_type": "stream",
     "text": [
      "11\n",
      "☺\n",
      "24859\n"
     ]
    }
   ],
   "source": [
    "# len()\n",
    "print(len('abracadabra'))\n",
    "\n",
    "# chr()\n",
    "print(chr(9786))\n",
    "\n",
    "# ord()\n",
    "print(ord('愛'))"
   ]
  },
  {
   "cell_type": "markdown",
   "metadata": {},
   "source": [
    "### Advanced Lists\n",
    "#### Indexing"
   ]
  },
  {
   "cell_type": "code",
   "execution_count": null,
   "metadata": {},
   "outputs": [],
   "source": []
  }
 ],
 "metadata": {
  "kernelspec": {
   "display_name": "Python 3",
   "language": "python",
   "name": "python3"
  },
  "language_info": {
   "codemirror_mode": {
    "name": "ipython",
    "version": 3
   },
   "file_extension": ".py",
   "mimetype": "text/x-python",
   "name": "python",
   "nbconvert_exporter": "python",
   "pygments_lexer": "ipython3",
   "version": "3.8.3"
  }
 },
 "nbformat": 4,
 "nbformat_minor": 4
}
